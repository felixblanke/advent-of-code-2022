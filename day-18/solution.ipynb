{
 "cells": [
  {
   "cell_type": "code",
   "execution_count": 1,
   "metadata": {},
   "outputs": [],
   "source": [
    "from itertools import combinations, product, chain\n",
    "import numpy as np"
   ]
  },
  {
   "cell_type": "code",
   "execution_count": 2,
   "metadata": {},
   "outputs": [],
   "source": [
    "def parse_input(filename: str) -> np.ndarray:\n",
    "    row_lst = []\n",
    "    with open(filename) as f:\n",
    "        for row in f:\n",
    "            row = row.rstrip()\n",
    "            row_lst.append(list(map(int, row.split(\",\"))))\n",
    "    return np.stack(row_lst)"
   ]
  },
  {
   "cell_type": "code",
   "execution_count": 3,
   "metadata": {},
   "outputs": [],
   "source": [
    "def num_covered_sides(input_arr: np.ndarray) -> int:\n",
    "    counter = 0\n",
    "    for a, b in combinations(input_arr, 2):\n",
    "        if (a - b).astype(bool).sum() <= 1 and abs((a - b).sum()) == 1:\n",
    "            counter += 1\n",
    "\n",
    "    return counter\n",
    "\n",
    "\n",
    "def surface_area(input_arr: np.ndarray, check_closed_in: bool = False) -> int:\n",
    "    num_of_sides = 6 * len(input_arr)\n",
    "    num_of_sides -= 2 * num_covered_sides(input_arr)\n",
    "\n",
    "    if check_closed_in:\n",
    "        min_x, min_y, min_z = input_arr.min(axis=0)\n",
    "        max_x, max_y, max_z = input_arr.max(axis=0)\n",
    "\n",
    "        cube_set = set(map(tuple, input_arr))\n",
    "        closed_in_cubes = 0\n",
    "        for x, y, z in product(\n",
    "            range(min_x, max_x + 1),\n",
    "            range(min_y, max_y + 1),\n",
    "            range(min_y, max_z + 1),\n",
    "        ):\n",
    "            if (x, y, z) in cube_set:\n",
    "                continue\n",
    "            neighbor_set = {\n",
    "                ((x - 1), y, z),\n",
    "                ((x + 1), y, z),\n",
    "                (x, (y - 1), z),\n",
    "                (x, (y + 1), z),\n",
    "                (x, y, (z - 1)),\n",
    "                (x, y, (z + 1)),\n",
    "            }\n",
    "            if neighbor_set.issubset(cube_set):\n",
    "                closed_in_cubes += 1\n",
    "        num_of_sides -= 6 * closed_in_cubes\n",
    "\n",
    "    return num_of_sides"
   ]
  },
  {
   "cell_type": "code",
   "execution_count": 4,
   "metadata": {},
   "outputs": [
    {
     "data": {
      "text/plain": [
       "10"
      ]
     },
     "execution_count": 4,
     "metadata": {},
     "output_type": "execute_result"
    }
   ],
   "source": [
    "surface_area(np.array([[1, 1, 1], [2, 1, 1]]))"
   ]
  },
  {
   "cell_type": "code",
   "execution_count": 5,
   "metadata": {},
   "outputs": [
    {
     "data": {
      "text/plain": [
       "64"
      ]
     },
     "execution_count": 5,
     "metadata": {},
     "output_type": "execute_result"
    }
   ],
   "source": [
    "input_arr = parse_input(\"test-input.txt\")\n",
    "surface_area(input_arr)"
   ]
  },
  {
   "cell_type": "code",
   "execution_count": 6,
   "metadata": {},
   "outputs": [
    {
     "data": {
      "text/plain": [
       "3522"
      ]
     },
     "execution_count": 6,
     "metadata": {},
     "output_type": "execute_result"
    }
   ],
   "source": [
    "input_arr = parse_input(\"input.txt\")\n",
    "surface_area(input_arr)"
   ]
  },
  {
   "cell_type": "code",
   "execution_count": 7,
   "metadata": {},
   "outputs": [],
   "source": [
    "from tqdm import tqdm\n",
    "\n",
    "\n",
    "def graph_based_pocket_detection(input_arr: np.ndarray) -> int:\n",
    "    import networkx as nx\n",
    "\n",
    "    graph = nx.Graph()\n",
    "    min_x, min_y, min_z = input_arr.min(axis=0)\n",
    "    max_x, max_y, max_z = input_arr.max(axis=0)\n",
    "    cube_set = set(map(tuple, input_arr))\n",
    "\n",
    "    for x, y, z in product(\n",
    "        range(min_x, max_x + 1),\n",
    "        range(min_y, max_y + 1),\n",
    "        range(min_z, max_z + 1),\n",
    "    ):\n",
    "        graph.add_node((x, y, z), droplet=(x, y, z) in cube_set)\n",
    "\n",
    "    full_cubes = set(graph.nodes)\n",
    "\n",
    "    for a in graph.nodes:\n",
    "        a_arr = np.array(a)\n",
    "        for diff in [\n",
    "            (1, 0, 0), (-1, 0, 0), (0, 1, 0), (0, -1, 0), (0, 0, 1), (0, 0, -1),\n",
    "        ]:\n",
    "            diff = np.array(diff)\n",
    "            b = tuple(a_arr + diff)\n",
    "            if b in full_cubes:\n",
    "                graph.add_edge(a, b, weight=1 if a in cube_set or b in cube_set else 0)\n",
    "\n",
    "    print(graph)\n",
    "\n",
    "    outer_set = set(\n",
    "        chain.from_iterable(\n",
    "            [\n",
    "                (x, y, min_z),\n",
    "                (x, y, max_z),\n",
    "                (x, min_y, z),\n",
    "                (x, max_y, z),\n",
    "                (min_x, y, z),\n",
    "                (max_x, y, z),\n",
    "            ]\n",
    "            for x, y, z in graph.nodes\n",
    "        )\n",
    "    ).difference(cube_set)\n",
    "\n",
    "    non_real_cubes = set(graph.nodes).difference(cube_set)\n",
    "    num_of_trapped = 0\n",
    "    for cube in tqdm(non_real_cubes):\n",
    "        try:\n",
    "            dist, path = nx.multi_source_dijkstra(\n",
    "                graph,\n",
    "                sources=outer_set,\n",
    "                target=cube,\n",
    "                cutoff=0,\n",
    "            )\n",
    "        except nx.NetworkXNoPath:\n",
    "            for diff in [\n",
    "                (1, 0, 0), (-1, 0, 0), (0, 1, 0), (0, -1, 0), (0, 0, 1), (0, 0, -1),\n",
    "            ]:\n",
    "                b = tuple(np.array(cube) + np.array(diff))\n",
    "                if b in cube_set:\n",
    "                    num_of_trapped += 1\n",
    "    return num_of_trapped"
   ]
  },
  {
   "cell_type": "code",
   "execution_count": 8,
   "metadata": {},
   "outputs": [
    {
     "name": "stdout",
     "output_type": "stream",
     "text": [
      "Graph with 54 nodes and 117 edges\n"
     ]
    },
    {
     "name": "stderr",
     "output_type": "stream",
     "text": [
      "100%|██████████| 41/41 [00:00<00:00, 49316.45it/s]"
     ]
    },
    {
     "name": "stdout",
     "output_type": "stream",
     "text": [
      "58\n"
     ]
    },
    {
     "name": "stderr",
     "output_type": "stream",
     "text": [
      "\n"
     ]
    }
   ],
   "source": [
    "input_arr = parse_input(\"test-input.txt\")\n",
    "trapped_faces = graph_based_pocket_detection(input_arr)\n",
    "area = surface_area(input_arr)\n",
    "print(area - trapped_faces)"
   ]
  },
  {
   "cell_type": "code",
   "execution_count": 9,
   "metadata": {},
   "outputs": [
    {
     "name": "stdout",
     "output_type": "stream",
     "text": [
      "Graph with 7600 nodes and 21640 edges\n"
     ]
    },
    {
     "name": "stderr",
     "output_type": "stream",
     "text": [
      "100%|██████████| 5557/5557 [01:23<00:00, 66.64it/s] \n"
     ]
    },
    {
     "name": "stdout",
     "output_type": "stream",
     "text": [
      "2074\n"
     ]
    }
   ],
   "source": [
    "input_arr = parse_input(\"input.txt\")\n",
    "trapped_faces = graph_based_pocket_detection(input_arr)\n",
    "area = surface_area(input_arr)\n",
    "print(area - trapped_faces)"
   ]
  }
 ],
 "metadata": {
  "kernelspec": {
   "display_name": "aoc22",
   "language": "python",
   "name": "python3"
  },
  "language_info": {
   "codemirror_mode": {
    "name": "ipython",
    "version": 3
   },
   "file_extension": ".py",
   "mimetype": "text/x-python",
   "name": "python",
   "nbconvert_exporter": "python",
   "pygments_lexer": "ipython3",
   "version": "3.10.8"
  },
  "orig_nbformat": 4,
  "vscode": {
   "interpreter": {
    "hash": "b252b475da23fd68615b28984c1256941e2b26bcd68c1a29ef0ca589a1ac5550"
   }
  }
 },
 "nbformat": 4,
 "nbformat_minor": 2
}
