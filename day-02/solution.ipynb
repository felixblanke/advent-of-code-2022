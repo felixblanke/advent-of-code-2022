{
 "cells": [
  {
   "cell_type": "code",
   "execution_count": 1,
   "metadata": {},
   "outputs": [],
   "source": [
    "import numpy as np"
   ]
  },
  {
   "cell_type": "code",
   "execution_count": 2,
   "metadata": {},
   "outputs": [],
   "source": [
    "def parse_input(input_gen, second_task: bool = False):\n",
    "    score = 0\n",
    "    if second_task:\n",
    "        win_matrix = {\n",
    "            \"A\": {\"X\": 3, \"Y\": 1, \"Z\": 2},\n",
    "            \"B\": {\"X\": 1, \"Y\": 2, \"Z\": 3},\n",
    "            \"C\": {\"X\": 2, \"Y\": 3, \"Z\": 1},\n",
    "        }\n",
    "        move_scores = {\n",
    "            \"X\": 0,\n",
    "            \"Y\": 3,\n",
    "            \"Z\": 6,\n",
    "        }\n",
    "    else:\n",
    "        move_scores = {\n",
    "            \"X\": 1,\n",
    "            \"Y\": 2,\n",
    "            \"Z\": 3,\n",
    "        }\n",
    "        win_matrix = {\n",
    "            \"A\": {\"X\": 3, \"Y\": 6, \"Z\": 0},\n",
    "            \"B\": {\"X\": 0, \"Y\": 3, \"Z\": 6},\n",
    "            \"C\": {\"X\": 6, \"Y\": 0, \"Z\": 3},\n",
    "        }\n",
    "    for row in input_gen:\n",
    "        op_move, my_move = row.rstrip().split(\" \")\n",
    "        score += move_scores[my_move] + win_matrix[op_move][my_move]\n",
    "    return score"
   ]
  },
  {
   "cell_type": "code",
   "execution_count": 3,
   "metadata": {},
   "outputs": [
    {
     "data": {
      "text/plain": [
       "15"
      ]
     },
     "execution_count": 3,
     "metadata": {},
     "output_type": "execute_result"
    }
   ],
   "source": [
    "parse_input(open(\"test-input.txt\", \"r\"))"
   ]
  },
  {
   "cell_type": "code",
   "execution_count": 4,
   "metadata": {},
   "outputs": [
    {
     "data": {
      "text/plain": [
       "15523"
      ]
     },
     "execution_count": 4,
     "metadata": {},
     "output_type": "execute_result"
    }
   ],
   "source": [
    "parse_input(open(\"input.txt\", \"r\"))"
   ]
  },
  {
   "cell_type": "code",
   "execution_count": 5,
   "metadata": {},
   "outputs": [
    {
     "data": {
      "text/plain": [
       "12"
      ]
     },
     "execution_count": 5,
     "metadata": {},
     "output_type": "execute_result"
    }
   ],
   "source": [
    "parse_input(open(\"test-input.txt\", \"r\"), second_task=True)"
   ]
  },
  {
   "cell_type": "code",
   "execution_count": 6,
   "metadata": {},
   "outputs": [
    {
     "data": {
      "text/plain": [
       "15702"
      ]
     },
     "execution_count": 6,
     "metadata": {},
     "output_type": "execute_result"
    }
   ],
   "source": [
    "parse_input(open(\"input.txt\", \"r\"), second_task=True)"
   ]
  }
 ],
 "metadata": {
  "kernelspec": {
   "display_name": "Python 3.9.9 64-bit",
   "language": "python",
   "name": "python3"
  },
  "language_info": {
   "codemirror_mode": {
    "name": "ipython",
    "version": 3
   },
   "file_extension": ".py",
   "mimetype": "text/x-python",
   "name": "python",
   "nbconvert_exporter": "python",
   "pygments_lexer": "ipython3",
   "version": "3.9.9"
  },
  "orig_nbformat": 4,
  "vscode": {
   "interpreter": {
    "hash": "e7370f93d1d0cde622a1f8e1c04877d8463912d04d973331ad4851f04de6915a"
   }
  }
 },
 "nbformat": 4,
 "nbformat_minor": 2
}
