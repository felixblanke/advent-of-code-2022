{
 "cells": [
  {
   "cell_type": "code",
   "execution_count": 1,
   "metadata": {},
   "outputs": [],
   "source": [
    "import numpy as np"
   ]
  },
  {
   "cell_type": "code",
   "execution_count": 2,
   "metadata": {},
   "outputs": [],
   "source": [
    "def parse_input(filename: str):\n",
    "    elf_lst = []\n",
    "    with open(filename) as f:\n",
    "        for row_idx, row in enumerate(f):\n",
    "            row = row.rstrip()\n",
    "            for col_idx, char in enumerate(row):\n",
    "                if char == \"#\":\n",
    "                    elf_lst.append(col_idx + row_idx * 1j)\n",
    "\n",
    "    return np.array(elf_lst)"
   ]
  },
  {
   "cell_type": "code",
   "execution_count": 3,
   "metadata": {},
   "outputs": [],
   "source": [
    "from tqdm import tqdm, trange\n",
    "\n",
    "diffs = np.stack(\n",
    "    [\n",
    "        -1 - 1j,\n",
    "        -1j,\n",
    "        1 - 1j,\n",
    "        1,\n",
    "        1 + 1j,\n",
    "        1j,\n",
    "        -1 + 1j,\n",
    "        -1,\n",
    "        -1 - 1j,\n",
    "    ]\n",
    ")\n",
    "\n",
    "\n",
    "def print_field(elf_pos: np.ndarray):\n",
    "    elf_pos_set = set(map(tuple, elf_pos.view('(2,)float')))\n",
    "    ret_str = \"\"\n",
    "    for row_idx in range(elf_pos[:, 1].min(), elf_pos[:, 1].max() + 1):\n",
    "        for col_idx in range(elf_pos[:, 0].min(), elf_pos[:, 0].max() + 1):\n",
    "            if (col_idx, row_idx) in elf_pos_set:\n",
    "                ret_str += \"#\"\n",
    "            else:\n",
    "                ret_str += \".\"\n",
    "        ret_str += \"\\n\"\n",
    "    print(ret_str)\n",
    "\n",
    "\n",
    "def task_one(elf_pos: set[np.ndarray], num_rounds: int):\n",
    "    dirs = np.array([0, 2, 3, 1], dtype=int)\n",
    "\n",
    "    new_elfs = diffs[:, None] + elf_pos\n",
    "\n",
    "    # for all possible movements for all pair of elfs\n",
    "    # does the movement of one elf hit the other\n",
    "    full_mask = new_elfs[:, :, None] == elf_pos\n",
    "\n",
    "    for _round in trange(num_rounds):\n",
    "        mask = full_mask.any(-1)\n",
    "        has_neighs = mask.any(0)\n",
    "\n",
    "        if not has_neighs.any():\n",
    "            break\n",
    "\n",
    "        curr_mask = has_neighs\n",
    "\n",
    "        proposed_moves = []\n",
    "        proposing_elf_inds = []\n",
    "\n",
    "        for dir in dirs:\n",
    "            dir_possible = ~mask[2 * dir : 2 * dir + 3].any(0) & curr_mask\n",
    "            curr_mask = curr_mask & ~dir_possible\n",
    "            proposed_moves.append(new_elfs[2 * dir + 1, dir_possible])\n",
    "            proposing_elf_inds.append(np.where(dir_possible)[0])\n",
    "\n",
    "        proposed_moves = np.concatenate(proposed_moves, 0)\n",
    "        proposing_elf_inds = np.concatenate(proposing_elf_inds, 0)\n",
    "\n",
    "        if not proposed_moves.size:\n",
    "            break\n",
    "\n",
    "        unique_pos, unique_inds, unique_counts = np.unique(\n",
    "            proposed_moves,\n",
    "            return_index=True,\n",
    "            return_counts=True,\n",
    "            axis=0,\n",
    "        )\n",
    "        update_inds = unique_inds[np.where(unique_counts == 1)]\n",
    "        new_move_inds = proposing_elf_inds[update_inds]\n",
    "\n",
    "        if not new_move_inds.size:\n",
    "            break\n",
    "\n",
    "        elf_pos[new_move_inds] = proposed_moves[update_inds]\n",
    "        new_elfs[:, new_move_inds] = diffs[:, None] + elf_pos[new_move_inds]\n",
    "\n",
    "        full_mask[:, new_move_inds] = new_elfs[:, new_move_inds, None] == elf_pos\n",
    "        full_mask[:, :, new_move_inds] = new_elfs[:, :, None] == elf_pos[new_move_inds]\n",
    "\n",
    "        dirs = np.roll(dirs, -1)\n",
    "\n",
    "    return (\n",
    "        np.prod(\n",
    "            elf_pos.view(\"(2,)float\").max(0)\n",
    "            - elf_pos.view(\"(2,)float\").min(0)\n",
    "            + np.ones(2)\n",
    "        )\n",
    "        - len(elf_pos),\n",
    "        _round + 1,\n",
    "    )"
   ]
  },
  {
   "cell_type": "code",
   "execution_count": 4,
   "metadata": {},
   "outputs": [
    {
     "name": "stderr",
     "output_type": "stream",
     "text": [
      "100%|██████████| 10/10 [00:00<00:00, 1586.11it/s]\n"
     ]
    }
   ],
   "source": [
    "elfs = parse_input(\"test-input.txt\")\n",
    "t1_res = task_one(elfs, 10)\n",
    "assert (110, 10) == t1_res, f\"{t1_res} != {(110, 10)}\""
   ]
  },
  {
   "cell_type": "code",
   "execution_count": 5,
   "metadata": {},
   "outputs": [
    {
     "name": "stderr",
     "output_type": "stream",
     "text": [
      "100%|██████████| 10/10 [00:02<00:00,  3.93it/s]\n"
     ]
    }
   ],
   "source": [
    "elfs = parse_input(\"input.txt\")\n",
    "assert (4288, 10) == task_one(elfs, 10)"
   ]
  },
  {
   "cell_type": "code",
   "execution_count": 6,
   "metadata": {},
   "outputs": [
    {
     "name": "stderr",
     "output_type": "stream",
     "text": [
      "  0%|          | 19/10000000 [00:00<1:01:27, 2711.90it/s]\n"
     ]
    }
   ],
   "source": [
    "elfs = parse_input(\"test-input.txt\")\n",
    "assert (146, 20) == task_one(elfs, 10000000)"
   ]
  },
  {
   "cell_type": "code",
   "execution_count": 27,
   "metadata": {},
   "outputs": [
    {
     "name": "stderr",
     "output_type": "stream",
     "text": [
      "  0%|          | 939/10000000 [06:49<1212:19:55,  2.29it/s]\n"
     ]
    },
    {
     "data": {
      "text/plain": [
       "(16496.0, 940)"
      ]
     },
     "execution_count": 27,
     "metadata": {},
     "output_type": "execute_result"
    }
   ],
   "source": [
    "elfs = parse_input(\"input.txt\")\n",
    "task_one(elfs, 10000000)"
   ]
  }
 ],
 "metadata": {
  "kernelspec": {
   "display_name": "aoc22",
   "language": "python",
   "name": "python3"
  },
  "language_info": {
   "codemirror_mode": {
    "name": "ipython",
    "version": 3
   },
   "file_extension": ".py",
   "mimetype": "text/x-python",
   "name": "python",
   "nbconvert_exporter": "python",
   "pygments_lexer": "ipython3",
   "version": "3.10.8"
  },
  "orig_nbformat": 4,
  "vscode": {
   "interpreter": {
    "hash": "b252b475da23fd68615b28984c1256941e2b26bcd68c1a29ef0ca589a1ac5550"
   }
  }
 },
 "nbformat": 4,
 "nbformat_minor": 2
}
