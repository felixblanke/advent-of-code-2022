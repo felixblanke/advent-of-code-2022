{
 "cells": [
  {
   "cell_type": "code",
   "execution_count": 1,
   "metadata": {},
   "outputs": [],
   "source": [
    "import numpy as np\n"
   ]
  },
  {
   "cell_type": "code",
   "execution_count": 2,
   "metadata": {},
   "outputs": [],
   "source": [
    "def parse_input(filename: str):\n",
    "    elf_lst = []\n",
    "    with open(filename) as f:\n",
    "        for row_idx, row in enumerate(f):\n",
    "            row = row.rstrip()\n",
    "            for col_idx, char in enumerate(row):\n",
    "                if char == \"#\":\n",
    "                    elf_lst.append((col_idx, row_idx))\n",
    "        \n",
    "    return np.array(elf_lst, dtype=int)"
   ]
  },
  {
   "cell_type": "code",
   "execution_count": 3,
   "metadata": {},
   "outputs": [],
   "source": [
    "from tqdm import tqdm, trange\n",
    "diffs = np.stack([\n",
    "    np.array([-1, -1]),\n",
    "    np.array([0, -1]),\n",
    "    np.array([1, -1]),\n",
    "    np.array([1, 0]),\n",
    "    np.array([1, 1]),\n",
    "    np.array([0, 1]),\n",
    "    np.array([-1, 1]),\n",
    "    np.array([-1, 0]),\n",
    "    np.array([-1, -1]),\n",
    "])\n",
    "\n",
    "def print_field(elf_pos: np.ndarray):\n",
    "    elf_pos_set = set(map(tuple, elf_pos))\n",
    "    ret_str = \"\"\n",
    "    for row_idx in range(elf_pos[:, 1].min(), elf_pos[:, 1].max()+1):\n",
    "        for col_idx in range(elf_pos[:, 0].min(), elf_pos[:, 0].max()+1):\n",
    "            if (col_idx, row_idx) in elf_pos_set:\n",
    "                ret_str += \"#\"\n",
    "            else:\n",
    "                ret_str += \".\"\n",
    "        ret_str += \"\\n\"\n",
    "    print(ret_str)\n",
    "\n",
    "\n",
    "def task_one(elf_pos: set[np.ndarray], num_rounds: int):\n",
    "    dirs = np.array([0, 2, 3, 1], dtype=int)\n",
    "    for _round in trange(num_rounds):\n",
    "        proposed_moves = []\n",
    "        for elf_idx, elf in enumerate(elf_pos):\n",
    "            new_elfs = diffs + elf\n",
    "            mask_arr = ~(elf_pos[:, None] == new_elfs).all(-1).any(0)\n",
    "            if mask_arr.all():\n",
    "                continue\n",
    "            # print(f\"{elf}: {[dir for dir in dirs if mask_arr[2*dir: 2*dir + 3].all()]}\")\n",
    "            for dir in dirs:\n",
    "                if mask_arr[2*dir: 2*dir + 3].all():\n",
    "                    proposed_moves.append((elf_idx, *(elf + diffs[2*dir + 1])))\n",
    "                    break\n",
    "        if not proposed_moves:\n",
    "            break\n",
    "        proposed_moves = np.array(proposed_moves)\n",
    "        unique_pos, unique_inds, unique_counts = np.unique(\n",
    "            np.array(proposed_moves)[:, 1:],\n",
    "            return_index=True,\n",
    "            return_counts=True,\n",
    "            axis=0,\n",
    "        )\n",
    "        update_inds = unique_inds[np.where(unique_counts == 1)]\n",
    "        elf_pos[proposed_moves[update_inds, 0]] = proposed_moves[update_inds, 1:]\n",
    "        dirs = np.roll(dirs, -1)\n",
    "    \n",
    "    return np.prod(elf_pos.max(0) - elf_pos.min(0) + np.ones(2)) - len(elf_pos), _round + 1\n"
   ]
  },
  {
   "cell_type": "code",
   "execution_count": 4,
   "metadata": {},
   "outputs": [
    {
     "name": "stderr",
     "output_type": "stream",
     "text": [
      "100%|██████████| 10/10 [00:00<00:00, 843.69it/s]\n"
     ]
    },
    {
     "data": {
      "text/plain": [
       "(110.0, 10)"
      ]
     },
     "execution_count": 4,
     "metadata": {},
     "output_type": "execute_result"
    }
   ],
   "source": [
    "elfs = parse_input(\"test-input.txt\")\n",
    "task_one(elfs, 10)"
   ]
  },
  {
   "cell_type": "code",
   "execution_count": 5,
   "metadata": {},
   "outputs": [
    {
     "name": "stderr",
     "output_type": "stream",
     "text": [
      "100%|██████████| 10/10 [00:19<00:00,  1.99s/it]\n"
     ]
    },
    {
     "data": {
      "text/plain": [
       "(4288.0, 10)"
      ]
     },
     "execution_count": 5,
     "metadata": {},
     "output_type": "execute_result"
    }
   ],
   "source": [
    "elfs = parse_input(\"input.txt\")\n",
    "task_one(elfs, 10)"
   ]
  },
  {
   "cell_type": "code",
   "execution_count": 6,
   "metadata": {},
   "outputs": [
    {
     "name": "stderr",
     "output_type": "stream",
     "text": [
      "  0%|          | 19/10000000 [00:00<2:26:10, 1140.13it/s]\n"
     ]
    },
    {
     "data": {
      "text/plain": [
       "(146.0, 20)"
      ]
     },
     "execution_count": 6,
     "metadata": {},
     "output_type": "execute_result"
    }
   ],
   "source": [
    "elfs = parse_input(\"test-input.txt\")\n",
    "task_one(elfs, 10000000)"
   ]
  },
  {
   "cell_type": "code",
   "execution_count": null,
   "metadata": {},
   "outputs": [],
   "source": []
  }
 ],
 "metadata": {
  "kernelspec": {
   "display_name": "aoc22",
   "language": "python",
   "name": "python3"
  },
  "language_info": {
   "codemirror_mode": {
    "name": "ipython",
    "version": 3
   },
   "file_extension": ".py",
   "mimetype": "text/x-python",
   "name": "python",
   "nbconvert_exporter": "python",
   "pygments_lexer": "ipython3",
   "version": "3.10.8"
  },
  "orig_nbformat": 4,
  "vscode": {
   "interpreter": {
    "hash": "b252b475da23fd68615b28984c1256941e2b26bcd68c1a29ef0ca589a1ac5550"
   }
  }
 },
 "nbformat": 4,
 "nbformat_minor": 2
}
