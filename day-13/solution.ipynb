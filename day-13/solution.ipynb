{
 "cells": [
  {
   "cell_type": "code",
   "execution_count": 1,
   "metadata": {},
   "outputs": [],
   "source": [
    "from itertools import chain\n",
    "from functools import cmp_to_key"
   ]
  },
  {
   "cell_type": "code",
   "execution_count": 2,
   "metadata": {},
   "outputs": [],
   "source": [
    "def parse_input(input_gen):\n",
    "    list_of_pairs = []\n",
    "    while True:\n",
    "        left_entry = eval(next(input_gen).rstrip())\n",
    "        right_entry = eval(next(input_gen).rstrip())\n",
    "        list_of_pairs.append((left_entry, right_entry))\n",
    "        try:\n",
    "            next(input_gen)\n",
    "        except StopIteration:\n",
    "            break\n",
    "    \n",
    "    return list_of_pairs"
   ]
  },
  {
   "cell_type": "code",
   "execution_count": 3,
   "metadata": {},
   "outputs": [],
   "source": [
    "def compare_entries(\n",
    "    left_entry: list[int] | int,\n",
    "    right_entry: list[int] | int\n",
    ") -> bool | None:\n",
    "    if isinstance(left_entry, int) and isinstance(right_entry, int):\n",
    "        if left_entry == right_entry:\n",
    "            return None\n",
    "        return left_entry < right_entry\n",
    "    elif isinstance(left_entry, int):\n",
    "        return compare_entries([left_entry], right_entry)\n",
    "    elif isinstance(right_entry, int):\n",
    "        return compare_entries(left_entry, [right_entry])\n",
    "    else:\n",
    "        for a, b in zip(left_entry, right_entry):\n",
    "            comp_val = compare_entries(a, b)\n",
    "            if comp_val is not None:\n",
    "                return comp_val\n",
    "        return compare_entries(len(left_entry), len(right_entry))"
   ]
  },
  {
   "cell_type": "code",
   "execution_count": 4,
   "metadata": {},
   "outputs": [],
   "source": [
    "def first_task(input_file: str):\n",
    "    with open(input_file) as f:\n",
    "        list_of_pairs = parse_input(f)\n",
    "    \n",
    "    sum_of_indices = 0\n",
    "    for idx, (left_entry, right_entry) in enumerate(list_of_pairs):\n",
    "        comp_val =  compare_entries(left_entry, right_entry)\n",
    "        if comp_val:\n",
    "            sum_of_indices += idx + 1\n",
    "    return sum_of_indices"
   ]
  },
  {
   "cell_type": "code",
   "execution_count": 5,
   "metadata": {},
   "outputs": [
    {
     "data": {
      "text/plain": [
       "13"
      ]
     },
     "execution_count": 5,
     "metadata": {},
     "output_type": "execute_result"
    }
   ],
   "source": [
    "first_task(\"test-input.txt\")"
   ]
  },
  {
   "cell_type": "code",
   "execution_count": 6,
   "metadata": {},
   "outputs": [
    {
     "data": {
      "text/plain": [
       "5580"
      ]
     },
     "execution_count": 6,
     "metadata": {},
     "output_type": "execute_result"
    }
   ],
   "source": [
    "first_task(\"input.txt\")"
   ]
  },
  {
   "cell_type": "code",
   "execution_count": 7,
   "metadata": {},
   "outputs": [],
   "source": [
    "def comparator(a, b) -> bool:\n",
    "    cmp_val = compare_entries(a, b)\n",
    "    if cmp_val is None:\n",
    "        return 0\n",
    "    elif cmp_val is False:\n",
    "        return 1\n",
    "    else:\n",
    "        return -1"
   ]
  },
  {
   "cell_type": "code",
   "execution_count": 8,
   "metadata": {},
   "outputs": [],
   "source": [
    "def second_task(input_file: str):\n",
    "    with open(input_file) as f:\n",
    "        list_of_pairs = parse_input(f)\n",
    "    \n",
    "    list_of_signals = list(chain.from_iterable([a, b] for a, b in list_of_pairs))\n",
    "    list_of_signals.extend([[[2]], [[6]]])\n",
    "\n",
    "    sorted_list = sorted(list_of_signals, key=cmp_to_key(comparator))\n",
    "    ret_val = 1\n",
    "    for idx, val in enumerate(sorted_list):\n",
    "        if val is list_of_signals[-2] or val is list_of_signals[-1]:\n",
    "            ret_val *= idx + 1\n",
    "    return ret_val"
   ]
  },
  {
   "cell_type": "code",
   "execution_count": 9,
   "metadata": {},
   "outputs": [
    {
     "data": {
      "text/plain": [
       "140"
      ]
     },
     "execution_count": 9,
     "metadata": {},
     "output_type": "execute_result"
    }
   ],
   "source": [
    "second_task(\"test-input.txt\")"
   ]
  },
  {
   "cell_type": "code",
   "execution_count": 10,
   "metadata": {},
   "outputs": [
    {
     "data": {
      "text/plain": [
       "26200"
      ]
     },
     "execution_count": 10,
     "metadata": {},
     "output_type": "execute_result"
    }
   ],
   "source": [
    "second_task(\"input.txt\")"
   ]
  }
 ],
 "metadata": {
  "kernelspec": {
   "display_name": "Python 3.10.8 ('aoc22')",
   "language": "python",
   "name": "python3"
  },
  "language_info": {
   "codemirror_mode": {
    "name": "ipython",
    "version": 3
   },
   "file_extension": ".py",
   "mimetype": "text/x-python",
   "name": "python",
   "nbconvert_exporter": "python",
   "pygments_lexer": "ipython3",
   "version": "3.10.8"
  },
  "orig_nbformat": 4,
  "vscode": {
   "interpreter": {
    "hash": "b252b475da23fd68615b28984c1256941e2b26bcd68c1a29ef0ca589a1ac5550"
   }
  }
 },
 "nbformat": 4,
 "nbformat_minor": 2
}
