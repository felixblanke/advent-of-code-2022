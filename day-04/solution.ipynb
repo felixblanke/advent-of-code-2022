{
 "cells": [
  {
   "cell_type": "code",
   "execution_count": 1,
   "metadata": {},
   "outputs": [],
   "source": [
    "def parse_input_one(filename: str) -> int:\n",
    "    counter = 0\n",
    "    with open(filename) as f:\n",
    "        for row in f:\n",
    "            row = row.rstrip()\n",
    "            pairs = [\n",
    "                (int(a), int(b))\n",
    "                for pair in row.split(\",\") for a, b in [pair.split(\"-\")]\n",
    "            ]\n",
    "            \n",
    "            if pairs[1][0] <= pairs[0][0] <= pairs[0][1] <= pairs[1][1]:\n",
    "                counter += 1\n",
    "            elif pairs[0][0] <= pairs[1][0] <= pairs[1][1] <= pairs[0][1]:\n",
    "                counter += 1\n",
    "    return counter"
   ]
  },
  {
   "cell_type": "code",
   "execution_count": 2,
   "metadata": {},
   "outputs": [
    {
     "data": {
      "text/plain": [
       "2"
      ]
     },
     "execution_count": 2,
     "metadata": {},
     "output_type": "execute_result"
    }
   ],
   "source": [
    "parse_input_one(\"test-input.txt\")"
   ]
  },
  {
   "cell_type": "code",
   "execution_count": 3,
   "metadata": {},
   "outputs": [
    {
     "data": {
      "text/plain": [
       "507"
      ]
     },
     "execution_count": 3,
     "metadata": {},
     "output_type": "execute_result"
    }
   ],
   "source": [
    "parse_input_one(\"input.txt\")"
   ]
  },
  {
   "cell_type": "code",
   "execution_count": 4,
   "metadata": {},
   "outputs": [],
   "source": [
    "def parse_input_two(filename: str) -> int:\n",
    "    counter = 0\n",
    "    with open(filename) as f:\n",
    "        for row in f:\n",
    "            row = row.rstrip()\n",
    "            pairs = [\n",
    "                (int(a), int(b))\n",
    "                for pair in row.split(\",\") for a, b in [pair.split(\"-\")]\n",
    "            ]\n",
    "            \n",
    "            if (pairs[1][0] <= pairs[0][0] <= pairs[1][1]) or \\\n",
    "               (pairs[1][0] <= pairs[0][1] <= pairs[1][1]) or \\\n",
    "               (pairs[0][0] <= pairs[1][0] <= pairs[0][1]) or \\\n",
    "               (pairs[0][0] <= pairs[1][1] <= pairs[0][1]):\n",
    "                counter += 1\n",
    "    return counter"
   ]
  },
  {
   "cell_type": "code",
   "execution_count": 5,
   "metadata": {},
   "outputs": [
    {
     "data": {
      "text/plain": [
       "4"
      ]
     },
     "execution_count": 5,
     "metadata": {},
     "output_type": "execute_result"
    }
   ],
   "source": [
    "parse_input_two(\"test-input.txt\")"
   ]
  },
  {
   "cell_type": "code",
   "execution_count": 6,
   "metadata": {},
   "outputs": [
    {
     "data": {
      "text/plain": [
       "897"
      ]
     },
     "execution_count": 6,
     "metadata": {},
     "output_type": "execute_result"
    }
   ],
   "source": [
    "parse_input_two(\"input.txt\")"
   ]
  }
 ],
 "metadata": {
  "kernelspec": {
   "display_name": "Python 3.9.9 64-bit",
   "language": "python",
   "name": "python3"
  },
  "language_info": {
   "codemirror_mode": {
    "name": "ipython",
    "version": 3
   },
   "file_extension": ".py",
   "mimetype": "text/x-python",
   "name": "python",
   "nbconvert_exporter": "python",
   "pygments_lexer": "ipython3",
   "version": "3.9.9"
  },
  "orig_nbformat": 4,
  "vscode": {
   "interpreter": {
    "hash": "e7370f93d1d0cde622a1f8e1c04877d8463912d04d973331ad4851f04de6915a"
   }
  }
 },
 "nbformat": 4,
 "nbformat_minor": 2
}
