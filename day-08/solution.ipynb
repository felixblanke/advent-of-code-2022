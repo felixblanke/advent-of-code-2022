{
 "cells": [
  {
   "cell_type": "code",
   "execution_count": 1,
   "metadata": {},
   "outputs": [],
   "source": [
    "import numpy as np\n",
    "from itertools import product"
   ]
  },
  {
   "cell_type": "code",
   "execution_count": 2,
   "metadata": {},
   "outputs": [],
   "source": [
    "def parse_input(filename):\n",
    "    with open(filename) as f:\n",
    "        return np.array([\n",
    "            list(map(int, row.rstrip()))\n",
    "            for row in f\n",
    "        ])"
   ]
  },
  {
   "cell_type": "code",
   "execution_count": 3,
   "metadata": {},
   "outputs": [],
   "source": [
    "def check_visibility(input_arr: np.ndarray):\n",
    "    visibile_arr = np.zeros_like(input_arr, dtype=bool)\n",
    "\n",
    "    def _handle_height(curr_max_height, row_idx, col_idx):\n",
    "        height = input_arr[row_idx, col_idx]\n",
    "        if height > curr_max_height:\n",
    "            visibile_arr[row_idx, col_idx] = True\n",
    "            curr_max_height = height\n",
    "        return curr_max_height\n",
    "\n",
    "    # left to right\n",
    "    for row_idx in range(input_arr.shape[0]):\n",
    "        max_height = -1\n",
    "        for col_idx in range(input_arr.shape[1]):\n",
    "            max_height = _handle_height(max_height, row_idx, col_idx)\n",
    "    \n",
    "    # top to bottom\n",
    "    for col_idx in range(input_arr.shape[1]):\n",
    "        max_height = -1\n",
    "        for row_idx in range(input_arr.shape[0]):\n",
    "            max_height = _handle_height(max_height, row_idx, col_idx)\n",
    "    \n",
    "    # right to left\n",
    "    for row_idx in range(input_arr.shape[0]):\n",
    "        max_height = -1\n",
    "        for col_idx in reversed(range(input_arr.shape[1])):\n",
    "            max_height = _handle_height(max_height, row_idx, col_idx)\n",
    "\n",
    "    # bottom to top\n",
    "    for col_idx in range(input_arr.shape[1]):\n",
    "        max_height = -1\n",
    "        for row_idx in reversed(range(input_arr.shape[0])):\n",
    "            max_height = _handle_height(max_height, row_idx, col_idx)\n",
    "    return visibile_arr"
   ]
  },
  {
   "cell_type": "code",
   "execution_count": 4,
   "metadata": {},
   "outputs": [],
   "source": [
    "def scenic_score(input_arr: np.ndarray) -> np.ndarray:\n",
    "    score_arr = np.zeros_like(input_arr, dtype=int)\n",
    "    for row_idx, col_idx in product(\n",
    "        range(1, input_arr.shape[0] - 1),\n",
    "        range(1, input_arr.shape[1] - 1),\n",
    "    ):\n",
    "        max_height = input_arr[row_idx, col_idx]\n",
    "        score = 1\n",
    "\n",
    "        # left to right\n",
    "        for view_dist, inner_row_idx in enumerate(range(row_idx + 1, input_arr.shape[0])):\n",
    "            if input_arr[inner_row_idx, col_idx] >= max_height:\n",
    "                break\n",
    "        score *= view_dist + 1\n",
    "\n",
    "        # right to right\n",
    "        for view_dist, inner_row_idx in enumerate(range(row_idx - 1, -1, -1)):\n",
    "            if input_arr[inner_row_idx, col_idx] >= max_height:\n",
    "                break\n",
    "        score *= view_dist + 1\n",
    "\n",
    "        # top to bottom\n",
    "        for view_dist, inner_col_idx in enumerate(range(col_idx + 1, input_arr.shape[1])):\n",
    "            if input_arr[row_idx, inner_col_idx] >= max_height:\n",
    "                break\n",
    "        score *= view_dist + 1\n",
    "\n",
    "        # bottom to top\n",
    "        for view_dist, inner_col_idx in enumerate(range(col_idx - 1, -1, -1)):\n",
    "            if input_arr[row_idx, inner_col_idx] >= max_height:\n",
    "                break\n",
    "        score *= view_dist + 1\n",
    "\n",
    "        score_arr[row_idx, col_idx] = score\n",
    "\n",
    "    return score_arr"
   ]
  },
  {
   "cell_type": "code",
   "execution_count": 5,
   "metadata": {},
   "outputs": [
    {
     "data": {
      "text/plain": [
       "21"
      ]
     },
     "execution_count": 5,
     "metadata": {},
     "output_type": "execute_result"
    }
   ],
   "source": [
    "arr = parse_input(\"test-input.txt\")\n",
    "check_visibility(arr).sum()"
   ]
  },
  {
   "cell_type": "code",
   "execution_count": 6,
   "metadata": {},
   "outputs": [
    {
     "data": {
      "text/plain": [
       "1695"
      ]
     },
     "execution_count": 6,
     "metadata": {},
     "output_type": "execute_result"
    }
   ],
   "source": [
    "arr = parse_input(\"input.txt\")\n",
    "check_visibility(arr).sum()"
   ]
  },
  {
   "cell_type": "code",
   "execution_count": 7,
   "metadata": {},
   "outputs": [
    {
     "data": {
      "text/plain": [
       "8"
      ]
     },
     "execution_count": 7,
     "metadata": {},
     "output_type": "execute_result"
    }
   ],
   "source": [
    "arr = parse_input(\"test-input.txt\")\n",
    "scenic_score(arr).max()"
   ]
  },
  {
   "cell_type": "code",
   "execution_count": 8,
   "metadata": {},
   "outputs": [
    {
     "data": {
      "text/plain": [
       "287040"
      ]
     },
     "execution_count": 8,
     "metadata": {},
     "output_type": "execute_result"
    }
   ],
   "source": [
    "arr = parse_input(\"input.txt\")\n",
    "scenic_score(arr).max()"
   ]
  }
 ],
 "metadata": {
  "kernelspec": {
   "display_name": "Python 3.9.9 64-bit",
   "language": "python",
   "name": "python3"
  },
  "language_info": {
   "codemirror_mode": {
    "name": "ipython",
    "version": 3
   },
   "file_extension": ".py",
   "mimetype": "text/x-python",
   "name": "python",
   "nbconvert_exporter": "python",
   "pygments_lexer": "ipython3",
   "version": "3.9.9"
  },
  "orig_nbformat": 4,
  "vscode": {
   "interpreter": {
    "hash": "e7370f93d1d0cde622a1f8e1c04877d8463912d04d973331ad4851f04de6915a"
   }
  }
 },
 "nbformat": 4,
 "nbformat_minor": 2
}
