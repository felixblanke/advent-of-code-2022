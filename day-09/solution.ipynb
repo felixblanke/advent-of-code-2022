{
 "cells": [
  {
   "cell_type": "code",
   "execution_count": 1,
   "metadata": {},
   "outputs": [],
   "source": [
    "import numpy as np"
   ]
  },
  {
   "cell_type": "code",
   "execution_count": 2,
   "metadata": {},
   "outputs": [],
   "source": [
    "class RopePhysics():\n",
    "    def __init__(self) -> None:\n",
    "        self.head = np.array([0, 0], dtype=int)\n",
    "        self.tail = np.array([0, 0], dtype=int)\n",
    "        self.step_dirs = {\n",
    "            \"R\": np.array((1, 0), dtype=int),\n",
    "            \"L\": np.array((-1, 0), dtype=int),\n",
    "            \"U\": np.array((0, 1), dtype=int),\n",
    "            \"D\": np.array((0, -1), dtype=int),\n",
    "        }\n",
    "        self.visited_pos = {(0, 0)}\n",
    "    \n",
    "    def move_head(self, dir: str, steps: int) -> None:\n",
    "        step_dir = self.step_dirs[dir]\n",
    "        for _step in range(steps):\n",
    "            self.head += step_dir\n",
    "            squared_dist = np.sum((self.head - self.tail)**2)\n",
    "            if squared_dist == 4:\n",
    "                self.tail += step_dir\n",
    "                self.visited_pos.add(tuple(self.tail))\n",
    "            elif squared_dist > 2:\n",
    "                self.tail += np.sign(self.head - self.tail)\n",
    "                self.visited_pos.add(tuple(self.tail))\n",
    "\n",
    "    def __repr__(self) -> str:\n",
    "        min_y = min(k[1] for k in self.visited_pos)\n",
    "        max_y = max(k[1] for k in self.visited_pos)\n",
    "        min_x = min(k[1] for k in self.visited_pos)\n",
    "        max_x = max(k[1] for k in self.visited_pos)\n",
    "\n",
    "\n",
    "        ret_str = \"\"\n",
    "        for y in range(max_y, min_y - 1, -1):\n",
    "            ret_str += f\"{y:3d} \"\n",
    "            for x in range(min_x, max_x + 1):\n",
    "                if (x, y) == (0, 0):\n",
    "                    ret_str += \"s\"\n",
    "                elif (x, y) in self.visited_pos:\n",
    "                    ret_str += \"#\"\n",
    "                else:\n",
    "                    ret_str += \".\"\n",
    "\n",
    "            ret_str += \"\\n\"\n",
    "        return ret_str\n"
   ]
  },
  {
   "cell_type": "code",
   "execution_count": 3,
   "metadata": {},
   "outputs": [],
   "source": [
    "def task_one(filename):\n",
    "    ropes = RopePhysics()\n",
    "    with open(filename) as f:\n",
    "        for row in f:\n",
    "            row = row.rstrip().split(\" \")\n",
    "            ropes.move_head(row[0], int(row[1]))\n",
    "    return ropes\n",
    "            "
   ]
  },
  {
   "cell_type": "code",
   "execution_count": 4,
   "metadata": {},
   "outputs": [
    {
     "name": "stdout",
     "output_type": "stream",
     "text": [
      "13\n"
     ]
    }
   ],
   "source": [
    "ropes = task_one(\"test-input.txt\")\n",
    "print(len(ropes.visited_pos))"
   ]
  },
  {
   "cell_type": "code",
   "execution_count": 5,
   "metadata": {},
   "outputs": [
    {
     "name": "stdout",
     "output_type": "stream",
     "text": [
      "6243\n"
     ]
    }
   ],
   "source": [
    "ropes = task_one(\"input.txt\")\n",
    "print(len(ropes.visited_pos))"
   ]
  }
 ],
 "metadata": {
  "kernelspec": {
   "display_name": "Python 3.10.8 ('aoc22')",
   "language": "python",
   "name": "python3"
  },
  "language_info": {
   "codemirror_mode": {
    "name": "ipython",
    "version": 3
   },
   "file_extension": ".py",
   "mimetype": "text/x-python",
   "name": "python",
   "nbconvert_exporter": "python",
   "pygments_lexer": "ipython3",
   "version": "3.10.8"
  },
  "orig_nbformat": 4,
  "vscode": {
   "interpreter": {
    "hash": "b252b475da23fd68615b28984c1256941e2b26bcd68c1a29ef0ca589a1ac5550"
   }
  }
 },
 "nbformat": 4,
 "nbformat_minor": 2
}
