{
 "cells": [
  {
   "cell_type": "code",
   "execution_count": 1,
   "metadata": {},
   "outputs": [],
   "source": [
    "class CPU():\n",
    "    def __init__(self) -> None:\n",
    "        self.register = [1]\n",
    "    \n",
    "    def noop(self) -> None:\n",
    "        self.register.append(self.register[-1])\n",
    "    \n",
    "    def add(self, val: int) -> None:\n",
    "        curr_val = self.register[-1]\n",
    "        self.register.extend([curr_val, curr_val + val])\n",
    "\n",
    "    def crt_repr(self, width: int = 40, height: int = 6) -> str:\n",
    "        ret_str = \"\"\n",
    "        for cycle_idx, register in enumerate(self.register[:-1]):\n",
    "            if abs(register - cycle_idx % width) <= 1:\n",
    "                ret_str += \"#\"\n",
    "            else:\n",
    "                ret_str += \".\"\n",
    "            if (cycle_idx + 1) % width == 0:\n",
    "                ret_str += \"\\n\"\n",
    "        return ret_str\n"
   ]
  },
  {
   "cell_type": "code",
   "execution_count": 2,
   "metadata": {},
   "outputs": [],
   "source": [
    "def parse_input(filename) -> CPU:\n",
    "    cpu = CPU()\n",
    "    with open(filename) as f:\n",
    "        for row in f:\n",
    "            row = row.rstrip().split(\" \")\n",
    "            if len(row) == 1:\n",
    "                cpu.noop()\n",
    "            else:\n",
    "                cpu.add(int(row[1]))\n",
    "    return cpu"
   ]
  },
  {
   "cell_type": "code",
   "execution_count": 3,
   "metadata": {},
   "outputs": [],
   "source": [
    "def eval_cpu(cpu: CPU, eval_t: list[int]) -> int:\n",
    "    eval_sum = 0\n",
    "    for t in eval_t:\n",
    "        eval_sum += cpu.register[t-1] * t\n",
    "    return eval_sum"
   ]
  },
  {
   "cell_type": "code",
   "execution_count": 4,
   "metadata": {},
   "outputs": [
    {
     "name": "stdout",
     "output_type": "stream",
     "text": [
      "##..##..##..##..##..##..##..##..##..##..\n",
      "###...###...###...###...###...###...###.\n",
      "####....####....####....####....####....\n",
      "#####.....#####.....#####.....#####.....\n",
      "######......######......######......####\n",
      "#######.......#######.......#######.....\n",
      "\n"
     ]
    }
   ],
   "source": [
    "cpu = parse_input(\"test-input.txt\")\n",
    "eval_cpu(cpu, [20, 60, 100, 140, 180, 220])\n",
    "print(cpu.crt_repr())"
   ]
  },
  {
   "cell_type": "code",
   "execution_count": 5,
   "metadata": {},
   "outputs": [
    {
     "name": "stdout",
     "output_type": "stream",
     "text": [
      "####..##..#....#..#.###..#....####...##.\n",
      "#....#..#.#....#..#.#..#.#....#.......#.\n",
      "###..#....#....####.###..#....###.....#.\n",
      "#....#.##.#....#..#.#..#.#....#.......#.\n",
      "#....#..#.#....#..#.#..#.#....#....#..#.\n",
      "####..###.####.#..#.###..####.#.....##..\n",
      "\n"
     ]
    }
   ],
   "source": [
    "cpu = parse_input(\"input.txt\")\n",
    "eval_cpu(cpu, [20, 60, 100, 140, 180, 220])\n",
    "print(cpu.crt_repr())"
   ]
  }
 ],
 "metadata": {
  "kernelspec": {
   "display_name": "Python 3.9.9 64-bit",
   "language": "python",
   "name": "python3"
  },
  "language_info": {
   "codemirror_mode": {
    "name": "ipython",
    "version": 3
   },
   "file_extension": ".py",
   "mimetype": "text/x-python",
   "name": "python",
   "nbconvert_exporter": "python",
   "pygments_lexer": "ipython3",
   "version": "3.9.9"
  },
  "orig_nbformat": 4,
  "vscode": {
   "interpreter": {
    "hash": "e7370f93d1d0cde622a1f8e1c04877d8463912d04d973331ad4851f04de6915a"
   }
  }
 },
 "nbformat": 4,
 "nbformat_minor": 2
}
