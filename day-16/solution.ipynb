{
 "cells": [
  {
   "cell_type": "code",
   "execution_count": 1,
   "metadata": {},
   "outputs": [],
   "source": [
    "import networkx as nx\n",
    "from functools import lru_cache\n",
    "from itertools import combinations, product"
   ]
  },
  {
   "cell_type": "code",
   "execution_count": 2,
   "metadata": {},
   "outputs": [],
   "source": [
    "def parse_input(input_gen):\n",
    "    valves = []\n",
    "    flow_rates = {}\n",
    "    targets = []\n",
    "    for row in input_gen:\n",
    "        row = row.rstrip().split(\" \")\n",
    "        valves.append(row[1])\n",
    "        targets.append(\"\".join(row[9:]).split(\",\"))\n",
    "        flow_rates[valves[-1]] = int(row[4][5:-1])\n",
    "    return valves, flow_rates, targets"
   ]
  },
  {
   "cell_type": "code",
   "execution_count": 3,
   "metadata": {},
   "outputs": [],
   "source": [
    "def task_one(filename: str, max_time: int = 30) -> int:\n",
    "    with open(filename) as f:\n",
    "        valves, flow_rates, targets = parse_input(f)\n",
    "\n",
    "    graph = nx.DiGraph()\n",
    "    graph.add_nodes_from(valves)\n",
    "    for valve, target in zip(valves, targets):\n",
    "        for t in target:\n",
    "            graph.add_edge(valve, t)\n",
    "\n",
    "    # Prune non-starting nodes with zero flow-rate\n",
    "    interesting_nodes = {\"AA\"}.union({nn for nn in valves if flow_rates[nn] > 0})\n",
    "    path_lengths = {\n",
    "        nn: dists\n",
    "        for nn, dists in nx.all_pairs_shortest_path_length(graph, cutoff=30)\n",
    "    }\n",
    "\n",
    "    path_lengths = {k: path_lengths[k] for k in path_lengths.keys() & interesting_nodes}\n",
    "    for k, v in path_lengths.items():\n",
    "        path_lengths[k] = {_k: v[_k] for _k in v.keys() & interesting_nodes}\n",
    "\n",
    "    @lru_cache(maxsize=10000)\n",
    "    def check_solution(curr_score: int, curr_time: int, curr_valve: str, opened_valves: tuple[str]):\n",
    "        best_score = curr_score\n",
    "        opened_valves = set(opened_valves).union({curr_valve})\n",
    "        opened_valves_tuple = tuple(sorted(opened_valves))\n",
    "        # print(opened_valves)\n",
    "        for valve in interesting_nodes.difference(opened_valves):\n",
    "            new_time = curr_time + path_lengths[curr_valve][valve] + 1\n",
    "            if new_time < max_time:\n",
    "                new_score = curr_score + (max_time - new_time) * flow_rates[valve]\n",
    "                new_sol = check_solution(\n",
    "                    new_score,\n",
    "                    new_time,\n",
    "                    valve,\n",
    "                    opened_valves_tuple\n",
    "                )\n",
    "                best_score = new_sol if new_sol > best_score else best_score\n",
    "        return best_score\n",
    "    \n",
    "    return check_solution(0, 0, \"AA\", tuple())"
   ]
  },
  {
   "cell_type": "code",
   "execution_count": 4,
   "metadata": {},
   "outputs": [
    {
     "data": {
      "text/plain": [
       "1651"
      ]
     },
     "execution_count": 4,
     "metadata": {},
     "output_type": "execute_result"
    }
   ],
   "source": [
    "task_one(\"test-input.txt\")"
   ]
  },
  {
   "cell_type": "code",
   "execution_count": 5,
   "metadata": {},
   "outputs": [
    {
     "data": {
      "text/plain": [
       "2114"
      ]
     },
     "execution_count": 5,
     "metadata": {},
     "output_type": "execute_result"
    }
   ],
   "source": [
    "task_one(\"input.txt\")"
   ]
  },
  {
   "cell_type": "code",
   "execution_count": 6,
   "metadata": {},
   "outputs": [],
   "source": [
    "def task_two(filename: str, max_time: int = 30) -> dict[tuple[str], float]:\n",
    "    with open(filename) as f:\n",
    "        valves, flow_rates, targets = parse_input(f)\n",
    "\n",
    "    graph = nx.DiGraph()\n",
    "    graph.add_nodes_from(valves)\n",
    "    for valve, target in zip(valves, targets):\n",
    "        for t in target:\n",
    "            graph.add_edge(valve, t)\n",
    "\n",
    "    # Prune non-starting nodes with zero flow-rate\n",
    "    interesting_nodes = {\"AA\"}.union({nn for nn in valves if flow_rates[nn] > 0})\n",
    "    path_lengths = {\n",
    "        nn: dists\n",
    "        for nn, dists in nx.all_pairs_shortest_path_length(graph, cutoff=30)\n",
    "    }\n",
    "\n",
    "    path_lengths = {k: path_lengths[k] for k in path_lengths.keys() & interesting_nodes}\n",
    "    for k, v in path_lengths.items():\n",
    "        path_lengths[k] = {_k: v[_k] for _k in v.keys() & interesting_nodes}\n",
    "\n",
    "    def check_solution(curr_score: int, curr_time: int, curr_valve: str, opened_valves: tuple[str], cache_dict: dict[tuple[str], float]) -> dict[tuple[str], float]:\n",
    "        opened_valves = set(opened_valves).union({curr_valve})\n",
    "        opened_valves_tuple = tuple(sorted(opened_valves))\n",
    "        cache_dict[opened_valves_tuple] = max(cache_dict.get(opened_valves_tuple, 0), curr_score)\n",
    "        \n",
    "        for valve in interesting_nodes.difference(opened_valves):\n",
    "            new_time = curr_time + path_lengths[curr_valve][valve] + 1\n",
    "            if new_time < max_time:\n",
    "                new_score = curr_score + (max_time - new_time) * flow_rates[valve]\n",
    "                check_solution(\n",
    "                    new_score,\n",
    "                    new_time,\n",
    "                    valve,\n",
    "                    opened_valves_tuple,\n",
    "                    cache_dict,\n",
    "                )\n",
    "        return cache_dict\n",
    "    \n",
    "    return check_solution(0, 0, \"AA\", tuple(), {})"
   ]
  },
  {
   "cell_type": "code",
   "execution_count": 7,
   "metadata": {},
   "outputs": [
    {
     "data": {
      "text/plain": [
       "1651"
      ]
     },
     "execution_count": 7,
     "metadata": {},
     "output_type": "execute_result"
    }
   ],
   "source": [
    "max(task_two(\"test-input.txt\", max_time=30).values())"
   ]
  },
  {
   "cell_type": "code",
   "execution_count": 8,
   "metadata": {},
   "outputs": [
    {
     "data": {
      "text/plain": [
       "2114"
      ]
     },
     "execution_count": 8,
     "metadata": {},
     "output_type": "execute_result"
    }
   ],
   "source": [
    "max(task_two(\"input.txt\", max_time=30).values())"
   ]
  },
  {
   "cell_type": "code",
   "execution_count": 9,
   "metadata": {},
   "outputs": [
    {
     "data": {
      "text/plain": [
       "1707"
      ]
     },
     "execution_count": 9,
     "metadata": {},
     "output_type": "execute_result"
    }
   ],
   "source": [
    "cached_dict = task_two(\"test-input.txt\", max_time=26)\n",
    "max(v_h + v_el for (k_h, v_h), (k_el, v_el) in product(cached_dict.items(), repeat=2) if set(k_h) & set(k_el) == {\"AA\"})"
   ]
  },
  {
   "cell_type": "code",
   "execution_count": 10,
   "metadata": {},
   "outputs": [
    {
     "name": "stdout",
     "output_type": "stream",
     "text": [
      "CPU times: user 7.72 s, sys: 0 ns, total: 7.72 s\n",
      "Wall time: 7.75 s\n"
     ]
    },
    {
     "data": {
      "text/plain": [
       "2666"
      ]
     },
     "execution_count": 10,
     "metadata": {},
     "output_type": "execute_result"
    }
   ],
   "source": [
    "cached_dict = task_two(\"input.txt\", max_time=26)\n",
    "# if we replaced tuples in the key representation with e.g. ints (as they are hashable and we can directly calc the intersection)\n",
    "# this would be way quicker\n",
    "%time max(v_h + v_el for (k_h, v_h), (k_el, v_el) in combinations(cached_dict.items(), 2) if set(k_h) & set(k_el) == {\"AA\"})"
   ]
  }
 ],
 "metadata": {
  "kernelspec": {
   "display_name": "Python 3.10.8 ('aoc22')",
   "language": "python",
   "name": "python3"
  },
  "language_info": {
   "codemirror_mode": {
    "name": "ipython",
    "version": 3
   },
   "file_extension": ".py",
   "mimetype": "text/x-python",
   "name": "python",
   "nbconvert_exporter": "python",
   "pygments_lexer": "ipython3",
   "version": "3.10.8"
  },
  "orig_nbformat": 4,
  "vscode": {
   "interpreter": {
    "hash": "b252b475da23fd68615b28984c1256941e2b26bcd68c1a29ef0ca589a1ac5550"
   }
  }
 },
 "nbformat": 4,
 "nbformat_minor": 2
}
