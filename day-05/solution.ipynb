{
 "cells": [
  {
   "cell_type": "code",
   "execution_count": 1,
   "metadata": {},
   "outputs": [],
   "source": [
    "from collections import defaultdict, deque\n",
    "\n",
    "def draw_stacks(stacks):\n",
    "    num_stacks = max(stacks) + 1\n",
    "    ret_str = \" \".join([f\" {idx} \" for idx in range(num_stacks)])\n",
    "    stack_strs = {}\n",
    "    max_len = 0\n",
    "    for idx, stack in stacks.items():\n",
    "        stack_strs[idx] = [f\"[{val}]\" for val in stack]\n",
    "        if len(stack) > max_len:\n",
    "            max_len = len(stack)\n",
    "    \n",
    "    for idx in range(1, max_len + 1):\n",
    "        row_str = []\n",
    "        for stack_idx in range(num_stacks):\n",
    "            if len(stacks[stack_idx]) < idx:\n",
    "                row_str.append(\"   \")\n",
    "            else:\n",
    "                row_str.append(f\"[{stacks[stack_idx][-idx]}]\")\n",
    "        ret_str = \" \".join(row_str) + \"\\n\" + ret_str\n",
    "    \n",
    "    return ret_str\n",
    "\n",
    "\n",
    "def move(stacks, start: int, end: int, num: int, order_preserving: bool = False):\n",
    "    if order_preserving:\n",
    "        partial_stack = stacks[start][:num]\n",
    "        partial_stack.extend(stacks[end])\n",
    "        stacks[end] = partial_stack\n",
    "        stacks[start] = stacks[start][num:]\n",
    "    else:\n",
    "        for _idx in range(num):\n",
    "            stacks[end].appendleft(stacks[start].popleft())\n",
    "    \n",
    "def parse_args(filename: str, order_preserving: bool = False) -> str:\n",
    "    with open(filename) as f:\n",
    "        row = next(f).rstrip()\n",
    "        num_stacks = int(row[-1])\n",
    "        if order_preserving:\n",
    "            stacks = defaultdict(list)\n",
    "        else:    \n",
    "            stacks = defaultdict(deque)\n",
    "        while (row := next(f)[:-1]):\n",
    "            for idx in range(num_stacks):\n",
    "                stack_elem = row[4*idx + 1]\n",
    "                if stack_elem != \" \":\n",
    "                    stacks[idx].append(stack_elem)\n",
    "        \n",
    "        for row in f:\n",
    "            # print(draw_stacks(stacks)) \n",
    "            row = row.rstrip().split(\" \")\n",
    "            num_to_move, start, end = int(row[1]), int(row[3]), int(row[5])\n",
    "            move(stacks, start - 1, end - 1, num_to_move, order_preserving=order_preserving)\n",
    "    \n",
    "    return \"\".join([stacks[idx][0] for idx in range(num_stacks) if stacks[idx]])\n",
    "            "
   ]
  },
  {
   "cell_type": "code",
   "execution_count": 2,
   "metadata": {},
   "outputs": [
    {
     "data": {
      "text/plain": [
       "'CMZ'"
      ]
     },
     "execution_count": 2,
     "metadata": {},
     "output_type": "execute_result"
    }
   ],
   "source": [
    "parse_args(\"test-input.txt\")"
   ]
  },
  {
   "cell_type": "code",
   "execution_count": 3,
   "metadata": {},
   "outputs": [
    {
     "data": {
      "text/plain": [
       "'FRDSQRRCD'"
      ]
     },
     "execution_count": 3,
     "metadata": {},
     "output_type": "execute_result"
    }
   ],
   "source": [
    "parse_args(\"input.txt\")"
   ]
  },
  {
   "cell_type": "code",
   "execution_count": 4,
   "metadata": {},
   "outputs": [
    {
     "data": {
      "text/plain": [
       "'MCD'"
      ]
     },
     "execution_count": 4,
     "metadata": {},
     "output_type": "execute_result"
    }
   ],
   "source": [
    "parse_args(\"test-input.txt\", order_preserving=True)"
   ]
  },
  {
   "cell_type": "code",
   "execution_count": 5,
   "metadata": {},
   "outputs": [
    {
     "data": {
      "text/plain": [
       "'HRFTQVWNN'"
      ]
     },
     "execution_count": 5,
     "metadata": {},
     "output_type": "execute_result"
    }
   ],
   "source": [
    "parse_args(\"input.txt\", order_preserving=True)"
   ]
  }
 ],
 "metadata": {
  "kernelspec": {
   "display_name": "Python 3.9.9 64-bit",
   "language": "python",
   "name": "python3"
  },
  "language_info": {
   "codemirror_mode": {
    "name": "ipython",
    "version": 3
   },
   "file_extension": ".py",
   "mimetype": "text/x-python",
   "name": "python",
   "nbconvert_exporter": "python",
   "pygments_lexer": "ipython3",
   "version": "3.9.9"
  },
  "orig_nbformat": 4,
  "vscode": {
   "interpreter": {
    "hash": "e7370f93d1d0cde622a1f8e1c04877d8463912d04d973331ad4851f04de6915a"
   }
  }
 },
 "nbformat": 4,
 "nbformat_minor": 2
}
