{
 "cells": [
  {
   "cell_type": "code",
   "execution_count": 1,
   "metadata": {},
   "outputs": [],
   "source": [
    "import math"
   ]
  },
  {
   "cell_type": "code",
   "execution_count": 2,
   "metadata": {},
   "outputs": [],
   "source": [
    "def snafu_chr_to_digit(char: str) -> int:\n",
    "    return {\n",
    "        \"2\": 2,\n",
    "        \"1\": 1,\n",
    "        \"0\": 0,\n",
    "        \"-\": -1,\n",
    "        \"=\": -2,\n",
    "    }[char]\n",
    "\n",
    "\n",
    "def digit_to_snafu_chr(digit: int) -> int:\n",
    "    return {\n",
    "        -2: \"=\",\n",
    "        -1: \"-\",\n",
    "        0: \"0\",\n",
    "        1: \"1\",\n",
    "        2: \"2\",\n",
    "    }[digit]\n",
    "\n",
    "\n",
    "def snafu_to_decimal(snafu: str) -> int:\n",
    "    return sum(\n",
    "        5**chr_idx * snafu_chr_to_digit(char)\n",
    "        for chr_idx, char in enumerate(list(snafu)[::-1])\n",
    "    )\n",
    "\n",
    "\n",
    "def decimal_to_snafu(decimal: int) -> str:\n",
    "    if decimal == 0:\n",
    "        return \"\"\n",
    "    snafu_len = math.ceil(math.log(decimal + 1, 5)) + 1\n",
    "    snafu = [0] * snafu_len\n",
    "    def _snafu_carry(val: int) -> tuple[int, int]:\n",
    "        val = ((val + 2) % 5) - 2\n",
    "        return val, 1 if val < 0 else 0\n",
    "\n",
    "    for idx in range(snafu_len - 1):\n",
    "        val = (decimal // 5**idx) % 5\n",
    "        val, snafu_carry = _snafu_carry(val)\n",
    "        snafu[idx] += val\n",
    "        snafu[idx + 1] += snafu_carry\n",
    "        for carry_idx in range(idx, snafu_len - 1):\n",
    "            if snafu[carry_idx] <= 2:\n",
    "                break\n",
    "            snafu_val, snafu_carry = _snafu_carry(snafu[carry_idx])\n",
    "            if snafu_carry:\n",
    "                snafu[carry_idx] = snafu_val\n",
    "                snafu[carry_idx + 1] += snafu_carry\n",
    "    return strip_leading_zeros(\"\".join(map(digit_to_snafu_chr, snafu[::-1])))\n",
    "\n",
    "\n",
    "def strip_leading_zeros(val: str) -> str:\n",
    "    while val:\n",
    "        if val[0] == \"0\":\n",
    "            val = val[1:]\n",
    "        else:\n",
    "            break\n",
    "    return val\n",
    "\n",
    "\n",
    "for idx in range(0, 1000):\n",
    "    snafu_val = decimal_to_snafu(idx)\n",
    "    reconstr = snafu_to_decimal(snafu_val)\n",
    "    assert reconstr == idx, f\"Failed at {idx}\""
   ]
  },
  {
   "cell_type": "code",
   "execution_count": 3,
   "metadata": {},
   "outputs": [],
   "source": [
    "def parse_args(filename: str) -> None:\n",
    "    with open(filename) as f:\n",
    "        snafu_sum = sum(snafu_to_decimal(row.rstrip()) for row in f)\n",
    "    return decimal_to_snafu(snafu_sum)"
   ]
  },
  {
   "cell_type": "code",
   "execution_count": 4,
   "metadata": {},
   "outputs": [
    {
     "name": "stdout",
     "output_type": "stream",
     "text": [
      "2=-1=0\n"
     ]
    }
   ],
   "source": [
    "print(parse_args(\"test-input.txt\"))"
   ]
  },
  {
   "cell_type": "code",
   "execution_count": 5,
   "metadata": {},
   "outputs": [
    {
     "name": "stdout",
     "output_type": "stream",
     "text": [
      "20===-20-020=0001-02\n"
     ]
    }
   ],
   "source": [
    "print(parse_args(\"input.txt\"))"
   ]
  }
 ],
 "metadata": {
  "kernelspec": {
   "display_name": "aoc22",
   "language": "python",
   "name": "python3"
  },
  "language_info": {
   "codemirror_mode": {
    "name": "ipython",
    "version": 3
   },
   "file_extension": ".py",
   "mimetype": "text/x-python",
   "name": "python",
   "nbconvert_exporter": "python",
   "pygments_lexer": "ipython3",
   "version": "3.10.8"
  },
  "orig_nbformat": 4,
  "vscode": {
   "interpreter": {
    "hash": "b252b475da23fd68615b28984c1256941e2b26bcd68c1a29ef0ca589a1ac5550"
   }
  }
 },
 "nbformat": 4,
 "nbformat_minor": 2
}
