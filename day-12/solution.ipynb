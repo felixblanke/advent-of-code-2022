{
 "cells": [
  {
   "cell_type": "code",
   "execution_count": 1,
   "metadata": {},
   "outputs": [],
   "source": [
    "import numpy as np\n",
    "import networkx as nx\n",
    "from itertools import product"
   ]
  },
  {
   "cell_type": "code",
   "execution_count": 2,
   "metadata": {},
   "outputs": [],
   "source": [
    "def height_map(height_char) -> int:\n",
    "    if height_char == \"S\":\n",
    "        return height_map(\"a\")\n",
    "    elif height_char == \"E\":\n",
    "        return height_map(\"z\")\n",
    "    else:\n",
    "        return ord(height_char) - 96\n",
    "\n",
    "def is_starting_square(char, use_second_task: bool):\n",
    "    return char == \"S\" or (use_second_task and char == \"a\")\n",
    "\n",
    "def parse_input(input_stream, use_second_task: bool = False):\n",
    "    graph = nx.DiGraph()\n",
    "    for row_idx, row in enumerate(input_stream):\n",
    "        row = row.rstrip()\n",
    "        graph.add_nodes_from([\n",
    "            ((row_idx, col_idx), {\n",
    "                \"height\": height_map(char),\n",
    "                \"start\": is_starting_square(char, use_second_task),\n",
    "                \"end\": char == \"E\",\n",
    "            })\n",
    "            for col_idx, char in enumerate(row)\n",
    "        ])\n",
    "    \n",
    "    num_rows = max(n[0] for n in graph.nodes) + 1\n",
    "    num_cols = max(n[1] for n in graph.nodes) + 1\n",
    "    for row_idx, col_idx in product(range(num_rows), range(num_cols-1)):\n",
    "        if graph.nodes[(row_idx, col_idx)][\"height\"] <= graph.nodes[(row_idx, col_idx + 1)][\"height\"] + 1:\n",
    "            graph.add_edge((row_idx, col_idx + 1), (row_idx, col_idx))\n",
    "        if graph.nodes[(row_idx, col_idx + 1)][\"height\"] <= graph.nodes[(row_idx, col_idx)][\"height\"] + 1:\n",
    "            graph.add_edge((row_idx, col_idx), (row_idx, col_idx + 1))\n",
    "    for row_idx, col_idx in product(range(num_rows-1), range(num_cols)):\n",
    "        if graph.nodes[(row_idx, col_idx)][\"height\"] <= graph.nodes[(row_idx + 1, col_idx)][\"height\"] + 1:\n",
    "            graph.add_edge((row_idx + 1, col_idx), (row_idx, col_idx))\n",
    "        if graph.nodes[(row_idx + 1, col_idx)][\"height\"] <= graph.nodes[(row_idx, col_idx)][\"height\"] + 1:\n",
    "            graph.add_edge((row_idx, col_idx), (row_idx + 1, col_idx))\n",
    "\n",
    "    start_nodes = [node for node in graph.nodes if graph.nodes[node][\"start\"]]\n",
    "    end_nodes = [node for node in graph.nodes if graph.nodes[node][\"end\"]]\n",
    "\n",
    "    # for row_idx in range(num_rows):\n",
    "    #     print(\" \".join([f\"{graph.nodes[(row_idx, col_idx)]['height']:02d}\" for col_idx in range(num_cols)]))\n",
    "\n",
    "    return graph, start_nodes, end_nodes"
   ]
  },
  {
   "cell_type": "code",
   "execution_count": 3,
   "metadata": {},
   "outputs": [],
   "source": [
    "def calc_shortest_path_length(input_file_name, use_second_task: bool = False):\n",
    "    graph, start_nodes, end_nodes = parse_input(open(input_file_name, \"r\"), use_second_task=use_second_task)\n",
    "    path_lenghts = []\n",
    "    for start, end in product(start_nodes, end_nodes):\n",
    "        try:\n",
    "            path_lenghts.append(nx.shortest_path_length(graph, start, end))\n",
    "        except nx.NetworkXNoPath:\n",
    "            pass\n",
    "    return min(path_lenghts)"
   ]
  },
  {
   "cell_type": "code",
   "execution_count": 4,
   "metadata": {},
   "outputs": [
    {
     "data": {
      "text/plain": [
       "31"
      ]
     },
     "execution_count": 4,
     "metadata": {},
     "output_type": "execute_result"
    }
   ],
   "source": [
    "calc_shortest_path_length(\"test-input.txt\")"
   ]
  },
  {
   "cell_type": "code",
   "execution_count": 5,
   "metadata": {},
   "outputs": [
    {
     "data": {
      "text/plain": [
       "534"
      ]
     },
     "execution_count": 5,
     "metadata": {},
     "output_type": "execute_result"
    }
   ],
   "source": [
    "calc_shortest_path_length(\"input.txt\")"
   ]
  },
  {
   "cell_type": "code",
   "execution_count": 6,
   "metadata": {},
   "outputs": [
    {
     "data": {
      "text/plain": [
       "29"
      ]
     },
     "execution_count": 6,
     "metadata": {},
     "output_type": "execute_result"
    }
   ],
   "source": [
    "calc_shortest_path_length(\"test-input.txt\", use_second_task=True)"
   ]
  },
  {
   "cell_type": "code",
   "execution_count": 7,
   "metadata": {},
   "outputs": [
    {
     "data": {
      "text/plain": [
       "525"
      ]
     },
     "execution_count": 7,
     "metadata": {},
     "output_type": "execute_result"
    }
   ],
   "source": [
    "calc_shortest_path_length(\"input.txt\", use_second_task=True)"
   ]
  }
 ],
 "metadata": {
  "kernelspec": {
   "display_name": "Python 3.9.9 64-bit",
   "language": "python",
   "name": "python3"
  },
  "language_info": {
   "codemirror_mode": {
    "name": "ipython",
    "version": 3
   },
   "file_extension": ".py",
   "mimetype": "text/x-python",
   "name": "python",
   "nbconvert_exporter": "python",
   "pygments_lexer": "ipython3",
   "version": "3.9.9"
  },
  "orig_nbformat": 4,
  "vscode": {
   "interpreter": {
    "hash": "e7370f93d1d0cde622a1f8e1c04877d8463912d04d973331ad4851f04de6915a"
   }
  }
 },
 "nbformat": 4,
 "nbformat_minor": 2
}
