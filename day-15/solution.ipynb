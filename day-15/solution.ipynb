{
 "cells": [
  {
   "cell_type": "code",
   "execution_count": 1,
   "metadata": {},
   "outputs": [],
   "source": [
    "import numpy as np\n",
    "from scipy.spatial.distance import pdist, cdist"
   ]
  },
  {
   "cell_type": "code",
   "execution_count": 2,
   "metadata": {},
   "outputs": [],
   "source": [
    "def parse_input(filename: str):\n",
    "    beacons = []\n",
    "    sensors = []\n",
    "    man_dist = []\n",
    "    with open(filename) as f:\n",
    "        for row in f:\n",
    "            row = row.rstrip().split(\" \")\n",
    "            sensor_x = int(row[2].split(\"=\")[1][:-1])\n",
    "            sensor_y = int(row[3].split(\"=\")[1][:-1])\n",
    "            beacon_x = int(row[8].split(\"=\")[1][:-1])\n",
    "            beacon_y = int(row[9].split(\"=\")[1])\n",
    "            beacons.append([beacon_x, beacon_y])\n",
    "            sensors.append([sensor_x, sensor_y])\n",
    "            man_dist.append(pdist([[sensor_x, sensor_y], [beacon_x, beacon_y]], metric=\"cityblock\"))\n",
    "    return np.stack(beacons).astype(int), np.stack(sensors).astype(int), np.stack(man_dist).astype(int).flatten()"
   ]
  },
  {
   "cell_type": "code",
   "execution_count": 3,
   "metadata": {},
   "outputs": [],
   "source": [
    "def _get_char_repr(sensors, beacons, max_dist, x, y):\n",
    "    dist_mat = cdist([[x, y]], sensors, metric=\"cityblock\").flatten()\n",
    "    if (x, y) in set(map(tuple, beacons)):\n",
    "        return \"B\"\n",
    "    elif (x, y) in set(map(tuple, sensors)):\n",
    "        return \"S\"\n",
    "    elif (dist_mat <= max_dist).any():\n",
    "        return \"#\"\n",
    "    else:\n",
    "        return \".\"\n",
    "\n",
    "\n",
    "def task_one_print(filename, y_row, verbose: bool = False):\n",
    "    beacons, sensors, man_dist = parse_input(filename)\n",
    "    min_x, min_y = sensors.min(axis=0)\n",
    "    max_x, max_y = sensors.max(axis=0)\n",
    "    max_man_dist = man_dist.max()\n",
    "    sum_of_blocked = 0\n",
    "    ret_str = \"\"\n",
    "    if verbose:\n",
    "        for _y in range(min_y - max_man_dist, y_row):\n",
    "            ret_str += f\"{_y:3d} \"\n",
    "            for _x in range(min_x - max_man_dist, max_x + max_man_dist + 1):\n",
    "                ret_str += _get_char_repr(sensors, beacons, man_dist, _x, _y)\n",
    "            ret_str += \"\\n\"\n",
    "\n",
    "    ret_str += f\"{y_row:3d} \"\n",
    "    for _x in range(min_x - max_man_dist, max_x + max_man_dist + 1):\n",
    "        inc = _get_char_repr(sensors, beacons, man_dist, _x, y_row)\n",
    "        if inc == \"#\":\n",
    "            sum_of_blocked += 1\n",
    "        ret_str += inc\n",
    "    ret_str += \"\\n\"\n",
    "    if verbose:\n",
    "        for _y in range(y_row + 1, max_y + max_man_dist + 1):\n",
    "            ret_str += f\"{_y:3d} \"\n",
    "            for _x in range(min_x - max_man_dist, max_x + max_man_dist + 1):\n",
    "                ret_str += _get_char_repr(sensors, beacons, man_dist, _x, _y)\n",
    "            ret_str += \"\\n\"\n",
    "\n",
    "        prev_row_100 = \"    \"\n",
    "        prev_row_10 = \"    \"\n",
    "        prev_row_1 = \"    \"\n",
    "        for _x in range(min_x - max_man_dist, max_x + max_man_dist + 1):\n",
    "            if _x % 5 == 0:\n",
    "                num_str = f\"{_x:3d}\"\n",
    "                prev_row_100 += num_str[0]\n",
    "                prev_row_10 += num_str[1]\n",
    "                prev_row_1 += num_str[2]\n",
    "            else:\n",
    "                prev_row_100 += \" \"\n",
    "                prev_row_10 += \" \"\n",
    "                prev_row_1 += \" \"\n",
    "\n",
    "        print(min_x-max_man_dist, max_x+max_man_dist)\n",
    "        print(prev_row_100)\n",
    "        print(prev_row_10)\n",
    "        print(prev_row_1)\n",
    "        print(ret_str)\n",
    "    return sum_of_blocked"
   ]
  },
  {
   "cell_type": "code",
   "execution_count": 4,
   "metadata": {},
   "outputs": [
    {
     "name": "stdout",
     "output_type": "stream",
     "text": [
      "-10 30\n",
      "    -                                        \n",
      "    1    -              1    1    2    2    3\n",
      "    0    5    0    5    0    5    0    5    0\n",
      "-10 ............#............................\n",
      " -9 ...........###...........................\n",
      " -8 ..........#####..........................\n",
      " -7 .........#######.........................\n",
      " -6 ........#########.............#..........\n",
      " -5 .......###########...........###.........\n",
      " -4 ......#############.........#####........\n",
      " -3 .....###############.......#######.......\n",
      " -2 ....#################.....#########......\n",
      " -1 ...###################.#.###########.....\n",
      "  0 ..##########S########################....\n",
      "  1 ...###########################S#######...\n",
      "  2 ....###################S#############....\n",
      "  3 .....###################SB##########.....\n",
      "  4 ......#############################......\n",
      "  5 .......###########################.......\n",
      "  6 ........#########################........\n",
      "  7 .........#########S#######S#####.........\n",
      "  8 ..........#######################........\n",
      "  9 .........#########################.......\n",
      " 10 ........####B######################......\n",
      " 11 .......###S#############.###########.....\n",
      " 12 ........#############################....\n",
      " 13 .........#############################...\n",
      " 14 .........#############S#######S########..\n",
      " 15 ........B#############################...\n",
      " 16 .......############SB################....\n",
      " 17 ......##################S##########B.....\n",
      " 18 .....#######S######################......\n",
      " 19 ......############################.......\n",
      " 20 .......#############S######S######.......\n",
      " 21 ........#########################........\n",
      " 22 .........#######..#############B.........\n",
      " 23 ..........#####....###..#######..........\n",
      " 24 ...........###......#....#####...........\n",
      " 25 ............#.............###............\n",
      " 26 ...........................#.............\n",
      " 27 .........................................\n",
      " 28 .........................................\n",
      " 29 .........................................\n",
      " 30 .........................................\n",
      "\n"
     ]
    },
    {
     "data": {
      "text/plain": [
       "26"
      ]
     },
     "execution_count": 4,
     "metadata": {},
     "output_type": "execute_result"
    }
   ],
   "source": [
    "task_one_print(\"test-input.txt\", 10, verbose=True)"
   ]
  },
  {
   "cell_type": "code",
   "execution_count": 5,
   "metadata": {},
   "outputs": [],
   "source": [
    "def task_one(filename: str, y_row: int, verbose: bool = False):\n",
    "    beacons, sensors, man_dist = parse_input(filename)\n",
    "    min_x, min_y = sensors.min(axis=0)\n",
    "    max_x, max_y = sensors.max(axis=0)\n",
    "    max_man_dist = man_dist.max()\n",
    "    dist_mat = cdist(\n",
    "        [\n",
    "            [_x, y_row] for _x in range(min_x - max_man_dist, max_x + max_man_dist + 1)\n",
    "        ],\n",
    "        sensors,\n",
    "        metric=\"cityblock\"\n",
    "    )\n",
    "    mask = (dist_mat <= man_dist).any(axis=1)\n",
    "    \n",
    "    mask2 = np.stack(list(set(map(tuple, beacons))))[:, 1] == y_row\n",
    "    mask3 = np.stack(list(set(map(tuple, sensors))))[:, 1] == y_row\n",
    "    mask_sum = mask.sum()\n",
    "    mask2_sum = mask2.sum()\n",
    "\n",
    "    if verbose:\n",
    "        ret_str = \"\"\n",
    "        for _x, m in zip(range(min_x - max_man_dist, max_x + max_man_dist + 1), mask):\n",
    "            if (_x, y_row) in set(map(tuple, beacons)):\n",
    "                ret_str += \"B\"\n",
    "            elif (_x, y_row) in set(map(tuple, sensors)):\n",
    "                ret_str += \"S\"\n",
    "            elif m:\n",
    "                ret_str += \"#\"\n",
    "            else:\n",
    "                ret_str += \".\"\n",
    "        print(ret_str)\n",
    "    return mask_sum - mask2_sum - mask3.sum()"
   ]
  },
  {
   "cell_type": "code",
   "execution_count": 6,
   "metadata": {},
   "outputs": [
    {
     "name": "stdout",
     "output_type": "stream",
     "text": [
      "........####B######################......\n",
      "26\n",
      "4793062\n"
     ]
    }
   ],
   "source": [
    "print(task_one(\"test-input.txt\", 10, verbose=True))\n",
    "print(task_one(\"input.txt\", 2000000))"
   ]
  },
  {
   "cell_type": "code",
   "execution_count": 7,
   "metadata": {},
   "outputs": [
    {
     "name": "stderr",
     "output_type": "stream",
     "text": [
      "3it [00:00, 651.59it/s]\n",
      "0it [00:00, ?it/s]"
     ]
    },
    {
     "name": "stdout",
     "output_type": "stream",
     "text": [
      "(array([14, 11]), 56000011)\n"
     ]
    },
    {
     "name": "stderr",
     "output_type": "stream",
     "text": [
      "1it [02:39, 159.56s/it]"
     ]
    },
    {
     "name": "stdout",
     "output_type": "stream",
     "text": [
      "(array([2706598, 3253551]), 10826395253551)\n"
     ]
    },
    {
     "name": "stderr",
     "output_type": "stream",
     "text": [
      "\n"
     ]
    }
   ],
   "source": [
    "# rather inefficient but gets the job done\n",
    "from tqdm import tqdm\n",
    "from itertools import product\n",
    "def task_two(filename: str, bound: tuple[int, int] = (0, 4000000)):\n",
    "    beacons, sensors, man_dist = parse_input(filename)\n",
    "    for sensor, d in tqdm(zip(sensors, man_dist)):\n",
    "        for dx in range(d+2):\n",
    "            dy = d + 1 - dx\n",
    "            for step_x, step_y in product([-1, 1], [-1, 1]):\n",
    "                pos = sensor + np.array([dx*step_x, dy*step_y])\n",
    "                if not (bound[0] <= pos[0] <= bound[1] and bound[0] <= pos[1] <= bound[1]):\n",
    "                    continue\n",
    "                elif _get_char_repr(sensors, beacons, man_dist, pos[0], pos[1]) == \".\":\n",
    "                    return pos, pos[0] * 4000000 + pos[1]\n",
    "\n",
    "print(task_two(\"test-input.txt\", bound=[0, 20]))\n",
    "print(task_two(\"input.txt\"))"
   ]
  },
  {
   "cell_type": "code",
   "execution_count": null,
   "metadata": {},
   "outputs": [],
   "source": []
  }
 ],
 "metadata": {
  "kernelspec": {
   "display_name": "Python 3.9.9 64-bit",
   "language": "python",
   "name": "python3"
  },
  "language_info": {
   "codemirror_mode": {
    "name": "ipython",
    "version": 3
   },
   "file_extension": ".py",
   "mimetype": "text/x-python",
   "name": "python",
   "nbconvert_exporter": "python",
   "pygments_lexer": "ipython3",
   "version": "3.9.9"
  },
  "orig_nbformat": 4,
  "vscode": {
   "interpreter": {
    "hash": "e7370f93d1d0cde622a1f8e1c04877d8463912d04d973331ad4851f04de6915a"
   }
  }
 },
 "nbformat": 4,
 "nbformat_minor": 2
}
