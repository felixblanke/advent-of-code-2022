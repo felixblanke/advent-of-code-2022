{
 "cells": [
  {
   "cell_type": "code",
   "execution_count": 1,
   "metadata": {},
   "outputs": [],
   "source": [
    "import pulp as pl\n",
    "import numpy as np\n",
    "from pathlib import Path\n",
    "from itertools import product"
   ]
  },
  {
   "cell_type": "code",
   "execution_count": 2,
   "metadata": {},
   "outputs": [],
   "source": [
    "resource_names = [\"ore\", \"clay\", \"obsidian\", \"geode\"]"
   ]
  },
  {
   "cell_type": "code",
   "execution_count": 3,
   "metadata": {},
   "outputs": [],
   "source": [
    "def solve_robot_ilp(\n",
    "    name: str,\n",
    "    ore_cost: int,\n",
    "    clay_cost: int,\n",
    "    obsidian_costs: tuple[int, int],\n",
    "    geode_costs: tuple[int, int],\n",
    "    num_timesteps: int,\n",
    "):\n",
    "    print(\n",
    "        f\"{name} for {num_timesteps} timesteps: {ore_cost}, {clay_cost}, {obsidian_costs}, {geode_costs}\"\n",
    "    )\n",
    "    ilp = pl.LpProblem(name, sense=pl.LpMaximize)\n",
    "\n",
    "    new_robots = pl.LpVariable.dicts(\n",
    "        name=\"new_robots\",\n",
    "        indices=(resource_names, range(num_timesteps + 1)),\n",
    "        lowBound=0,\n",
    "        cat=pl.LpInteger,\n",
    "    )\n",
    "    resource_gain = pl.LpVariable.dicts(\n",
    "        name=\"gained\",\n",
    "        indices=(resource_names, range(num_timesteps + 1)),\n",
    "        lowBound=0,\n",
    "        cat=pl.LpInteger,\n",
    "    )\n",
    "    resource_spent = pl.LpVariable.dicts(\n",
    "        name=\"spent\",\n",
    "        indices=(resource_names, range(num_timesteps + 1)),\n",
    "        lowBound=0,\n",
    "        cat=pl.LpInteger,\n",
    "    )\n",
    "\n",
    "    def _set_var(var: pl.LpVariable, val: int):\n",
    "        var.setInitialValue(val)\n",
    "        var.fixValue()\n",
    "\n",
    "    for res_name in resource_names:\n",
    "        _set_var(new_robots[res_name][0], 1 if res_name == \"ore\" else 0)\n",
    "        _set_var(resource_gain[res_name][0], 0)\n",
    "        _set_var(resource_spent[res_name][0], 0)\n",
    "\n",
    "    ilp += (\n",
    "        pl.lpSum(resource_gain[\"geode\"]),\n",
    "        \"cost_func\",\n",
    "    )\n",
    "\n",
    "    for time in range(1, num_timesteps + 1):\n",
    "        for res_name in resource_names:\n",
    "            # sum of all gains must be larger or equal to sum of all spent resources\n",
    "            ilp += (\n",
    "                pl.lpSum([resource_gain[res_name][tt] for tt in range(time + 1)])\n",
    "                >= pl.lpSum([resource_spent[res_name][tt] for tt in range(time + 1)]),\n",
    "                f\"no_debt_{res_name}_{time}\",\n",
    "            )\n",
    "\n",
    "        for res_name in resource_names:\n",
    "            ilp += (\n",
    "                resource_gain[res_name][time]\n",
    "                == pl.lpSum(new_robots[res_name][tt] for tt in range(time)),\n",
    "                f\"{res_name}_gain_{time}\",\n",
    "            )\n",
    "\n",
    "        ilp += (\n",
    "            pl.lpSum(new_robots[res_name][time] for res_name in resource_names) <= 1,\n",
    "            f\"build_only_one_robot_{time}\",\n",
    "        )\n",
    "\n",
    "        ilp += (\n",
    "            pl.lpDot(\n",
    "                [new_robots[res_name][time] for res_name in resource_names],\n",
    "                [ore_cost, clay_cost, obsidian_costs[0], geode_costs[0]],\n",
    "            )\n",
    "            == resource_spent[\"ore\"][time - 1],\n",
    "            f\"ore_spent_{time}\",\n",
    "        )\n",
    "\n",
    "        ilp += (\n",
    "            obsidian_costs[1] * new_robots[\"obsidian\"][time]\n",
    "            == resource_spent[\"clay\"][time - 1],\n",
    "            f\"clay_spent_{time}\",\n",
    "        )\n",
    "        ilp += (\n",
    "            geode_costs[1] * new_robots[\"geode\"][time]\n",
    "            == resource_spent[\"obsidian\"][time - 1],\n",
    "            f\"obsidian_spent_{time}\",\n",
    "        )\n",
    "\n",
    "    ilp.writeLP(f\"aoc22_day19_{name}.lp\")\n",
    "\n",
    "    res = ilp.solve(pl.COIN_CMD(msg=False))\n",
    "    if res == pl.LpStatusInfeasible:\n",
    "        print(\"INFEASIBLE\")\n",
    "    elif res == pl.LpSolutionUnbounded:\n",
    "        print(\"UNBOUNDED\")\n",
    "\n",
    "    return resource_gain, resource_spent, new_robots, ilp"
   ]
  },
  {
   "cell_type": "code",
   "execution_count": 4,
   "metadata": {},
   "outputs": [],
   "source": [
    "def print_ilp(name, num_timesteps, new_robots, resource_gain, resource_spent):\n",
    "    print(name)\n",
    "    for time in range(num_timesteps + 1):\n",
    "        print(f\"== Minute {time} ==\")\n",
    "        for res in resource_names:\n",
    "            new_robs = sum(pl.value(new_robots[res][tt]) for tt in range(time + 1))\n",
    "            if new_robs > 0:\n",
    "                res_budget = sum(\n",
    "                    pl.value(resource_gain[res][tt]) - pl.value(resource_spent[res][tt])\n",
    "                    for tt in range(time + 1)\n",
    "                )\n",
    "                print(\n",
    "                    f\"{new_robs} {res}-collecting robot collects {pl.value(resource_gain[res][time])} {res}; \"\n",
    "                    f\"you now have {res_budget} {res}\"\n",
    "                )\n",
    "        print()"
   ]
  },
  {
   "cell_type": "code",
   "execution_count": 5,
   "metadata": {},
   "outputs": [],
   "source": [
    "def parse_input(\n",
    "    filename: str, num_timesteps: int = 24, max_blueprints: int | None = None\n",
    "):\n",
    "    val_lst = []\n",
    "    with open(filename) as f:\n",
    "        for row_idx, row in enumerate(f):\n",
    "            if max_blueprints and row_idx >= max_blueprints:\n",
    "                break\n",
    "            row = row.rstrip().split(\" \")\n",
    "            ore_cost = int(row[6])\n",
    "            clay_cost = int(row[12])\n",
    "            obsidian_costs = (int(row[18]), int(row[21]))\n",
    "            geode_costs = (int(row[27]), int(row[30]))\n",
    "            name = f\"{Path(filename).stem}_{row_idx}\"\n",
    "            resource_gain, resource_spent, new_robots, ilp = solve_robot_ilp(\n",
    "                name, ore_cost, clay_cost, obsidian_costs, geode_costs, num_timesteps\n",
    "            )\n",
    "            # print_ilp(name, num_timesteps, new_robots, resource_gain, resource_spent)\n",
    "            val_lst.append(ilp.objective.value())\n",
    "    return val_lst, np.dot(val_lst, np.arange(1, len(val_lst) + 1))"
   ]
  },
  {
   "cell_type": "code",
   "execution_count": 6,
   "metadata": {},
   "outputs": [
    {
     "name": "stdout",
     "output_type": "stream",
     "text": [
      "test-input_0 for 24 timesteps: 4, 2, (3, 14), (2, 7)\n",
      "test-input_1 for 24 timesteps: 2, 3, (3, 8), (3, 12)\n"
     ]
    },
    {
     "data": {
      "text/plain": [
       "([9.0, 12.0], 33.0)"
      ]
     },
     "execution_count": 6,
     "metadata": {},
     "output_type": "execute_result"
    }
   ],
   "source": [
    "parse_input(\"test-input.txt\", 24)"
   ]
  },
  {
   "cell_type": "code",
   "execution_count": 7,
   "metadata": {},
   "outputs": [
    {
     "name": "stdout",
     "output_type": "stream",
     "text": [
      "input_0 for 24 timesteps: 4, 3, (3, 18), (4, 8)\n",
      "input_1 for 24 timesteps: 4, 4, (2, 11), (2, 7)\n",
      "input_2 for 24 timesteps: 4, 4, (4, 5), (2, 10)\n",
      "input_3 for 24 timesteps: 3, 3, (3, 8), (2, 12)\n",
      "input_4 for 24 timesteps: 4, 4, (4, 17), (4, 16)\n",
      "input_5 for 24 timesteps: 2, 4, (4, 20), (4, 18)\n",
      "input_6 for 24 timesteps: 3, 4, (2, 20), (4, 7)\n",
      "input_7 for 24 timesteps: 3, 4, (3, 6), (2, 10)\n",
      "input_8 for 24 timesteps: 4, 3, (3, 14), (4, 17)\n",
      "input_9 for 24 timesteps: 2, 4, (3, 19), (4, 8)\n",
      "input_10 for 24 timesteps: 4, 3, (2, 13), (2, 10)\n",
      "input_11 for 24 timesteps: 2, 2, (2, 20), (2, 14)\n",
      "input_12 for 24 timesteps: 2, 4, (4, 18), (2, 11)\n",
      "input_13 for 24 timesteps: 4, 3, (3, 11), (4, 7)\n",
      "input_14 for 24 timesteps: 2, 4, (4, 17), (3, 11)\n",
      "input_15 for 24 timesteps: 4, 3, (3, 20), (2, 19)\n",
      "input_16 for 24 timesteps: 3, 4, (3, 18), (4, 19)\n",
      "input_17 for 24 timesteps: 2, 2, (2, 10), (2, 11)\n",
      "input_18 for 24 timesteps: 4, 4, (2, 18), (4, 20)\n",
      "input_19 for 24 timesteps: 4, 4, (2, 9), (3, 15)\n",
      "input_20 for 24 timesteps: 3, 4, (4, 20), (4, 16)\n",
      "input_21 for 24 timesteps: 4, 3, (3, 7), (2, 7)\n",
      "input_22 for 24 timesteps: 4, 4, (4, 20), (2, 8)\n",
      "input_23 for 24 timesteps: 3, 3, (3, 19), (3, 19)\n",
      "input_24 for 24 timesteps: 3, 3, (3, 9), (3, 7)\n",
      "input_25 for 24 timesteps: 4, 4, (3, 14), (4, 15)\n",
      "input_26 for 24 timesteps: 3, 3, (2, 16), (3, 14)\n",
      "input_27 for 24 timesteps: 3, 3, (2, 20), (2, 20)\n",
      "input_28 for 24 timesteps: 3, 3, (4, 19), (4, 7)\n",
      "input_29 for 24 timesteps: 3, 3, (3, 11), (2, 8)\n"
     ]
    },
    {
     "data": {
      "text/plain": [
       "1613.0"
      ]
     },
     "execution_count": 7,
     "metadata": {},
     "output_type": "execute_result"
    }
   ],
   "source": [
    "parse_input(\"input.txt\", 24)[-1]"
   ]
  },
  {
   "cell_type": "code",
   "execution_count": 8,
   "metadata": {},
   "outputs": [
    {
     "name": "stdout",
     "output_type": "stream",
     "text": [
      "test-input_0 for 32 timesteps: 4, 2, (3, 14), (2, 7)\n",
      "test-input_1 for 32 timesteps: 2, 3, (3, 8), (3, 12)\n"
     ]
    },
    {
     "data": {
      "text/plain": [
       "([56.0, 62.0], 180.0)"
      ]
     },
     "execution_count": 8,
     "metadata": {},
     "output_type": "execute_result"
    }
   ],
   "source": [
    "parse_input(\"test-input.txt\", 32, max_blueprints=3)"
   ]
  },
  {
   "cell_type": "code",
   "execution_count": 9,
   "metadata": {},
   "outputs": [
    {
     "name": "stdout",
     "output_type": "stream",
     "text": [
      "input_0 for 32 timesteps: 4, 3, (3, 18), (4, 8)\n",
      "input_1 for 32 timesteps: 4, 4, (2, 11), (2, 7)\n",
      "input_2 for 32 timesteps: 4, 4, (4, 5), (2, 10)\n",
      "[28.0, 38.0, 44.0] 46816.0\n"
     ]
    }
   ],
   "source": [
    "val_lst, quality_score = parse_input(\"input.txt\", 32, max_blueprints=3)\n",
    "print(val_lst, np.prod(val_lst))"
   ]
  }
 ],
 "metadata": {
  "kernelspec": {
   "display_name": "Python 3.10.8 ('aoc22')",
   "language": "python",
   "name": "python3"
  },
  "language_info": {
   "codemirror_mode": {
    "name": "ipython",
    "version": 3
   },
   "file_extension": ".py",
   "mimetype": "text/x-python",
   "name": "python",
   "nbconvert_exporter": "python",
   "pygments_lexer": "ipython3",
   "version": "3.10.8"
  },
  "orig_nbformat": 4,
  "vscode": {
   "interpreter": {
    "hash": "b252b475da23fd68615b28984c1256941e2b26bcd68c1a29ef0ca589a1ac5550"
   }
  }
 },
 "nbformat": 4,
 "nbformat_minor": 2
}
