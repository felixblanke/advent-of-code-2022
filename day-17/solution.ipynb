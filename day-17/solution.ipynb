{
 "cells": [
  {
   "cell_type": "code",
   "execution_count": 1,
   "metadata": {},
   "outputs": [],
   "source": [
    "from collections import defaultdict\n",
    "from itertools import cycle\n",
    "from tqdm import tqdm"
   ]
  },
  {
   "cell_type": "code",
   "execution_count": null,
   "metadata": {},
   "outputs": [],
   "source": []
  },
  {
   "cell_type": "code",
   "execution_count": 2,
   "metadata": {},
   "outputs": [],
   "source": [
    "class CaveTetris():\n",
    "    def __init__(self, gas_stream: list[int], cave_width: int = 7) -> None:\n",
    "        self.gas_stream = gas_stream\n",
    "        self.cave_width = cave_width\n",
    "        self.max_height = 0\n",
    "        self.blocks = [\n",
    "            Block([(0, 0), (1, 0), (2, 0), (3, 0)]),\n",
    "            Block([(1, 0), (0, 1), (1, 1), (2, 1), (1, 2)]),\n",
    "            Block([(0, 0), (1, 0), (2, 0), (2, 1), (2, 2)]),\n",
    "            Block([(0, 0), (0, 1), (0, 2), (0, 3)]),\n",
    "            Block([(0, 0), (0, 1), (1, 0), (1, 1)]),\n",
    "        ]\n",
    "        self._state_dict = defaultdict(int)\n",
    "\n",
    "        self._char_rep = {\n",
    "            0: \".\",\n",
    "            1: \"–\",\n",
    "            2: \"|\",\n",
    "            3: \"+\",\n",
    "            4: \"#\",\n",
    "            -2: \"@\"\n",
    "        }\n",
    "\n",
    "        for _x in range(cave_width):\n",
    "            self[(_x, 0)] = 1\n",
    "\n",
    "    def __getitem__(self, key: tuple[int, int]) -> int:\n",
    "        if key[1] <= 0 and (key[0] < 0 or key[0] > self.cave_width):\n",
    "            return 3\n",
    "        elif key[1] <= 0:\n",
    "            return 1\n",
    "        elif key[0] < 0 or key[0] >= self.cave_width:\n",
    "            return 2\n",
    "        else:\n",
    "            return self._state_dict[key]\n",
    "\n",
    "    def __setitem__(self, key: tuple[int, int], value: int) -> None:\n",
    "        self._state_dict[key] = value\n",
    "    \n",
    "    def simultate_falling_rocks(self, num_of_blocks: int, verbose: bool = False):\n",
    "        block_gen = enumerate(cycle(self.blocks))\n",
    "        curr_block = None\n",
    "        cycle_store = {}\n",
    "        height_store = {}\n",
    "        for stream_idx, stream in cycle(enumerate(self.gas_stream)):\n",
    "            if curr_block is None:\n",
    "                block_idx, curr_block = next(block_gen)\n",
    "                height_store[block_idx] = self.max_height\n",
    "                if block_idx >= num_of_blocks:\n",
    "                    break\n",
    "                curr_block.reset(self.max_height)\n",
    "\n",
    "                curr_height = []\n",
    "                for _x in range(self.cave_width):\n",
    "                    for _y in range(self.max_height, -1, -1):\n",
    "                        if self[(_x, _y)] > 0:\n",
    "                            curr_height.append(_y - self.max_height)\n",
    "                            break\n",
    "                curr_height = tuple(curr_height)\n",
    "                if (block_idx % 5, curr_height, stream_idx) not in cycle_store:\n",
    "                    cycle_store[(block_idx % 5, curr_height, stream_idx)] = (self.max_height, block_idx)\n",
    "                else:\n",
    "                    past_max_height, past_block_idx = cycle_store[(block_idx % 5, curr_height, stream_idx)]\n",
    "                    print(f\"FOUND: {past_max_height=}, {past_block_idx=}, {self.max_height=}, {block_idx=}\")\n",
    "                    cycle_length = block_idx - past_block_idx\n",
    "                    cycle_height = self.max_height - past_max_height\n",
    "\n",
    "                    print(f\"{cycle_length=}, {cycle_height=}\")\n",
    "                    remaining_blocks = num_of_blocks - block_idx\n",
    "                    remaining_cycles = remaining_blocks // cycle_length\n",
    "                    remaining_height = (remaining_blocks // cycle_length) * cycle_height\n",
    "                    incomplete_cycle = remaining_blocks % cycle_length\n",
    "                    print(f\"{remaining_cycles=}: {remaining_height}\")\n",
    "                    incomplete_cycle_height = height_store[past_block_idx + incomplete_cycle] - past_max_height\n",
    "                    print(f\"{incomplete_cycle=}: {incomplete_cycle_height}\")\n",
    "\n",
    "                    print(f\"Alltogether: {self.max_height + remaining_height + incomplete_cycle_height=}\")\n",
    "                    return self.max_height + remaining_height + incomplete_cycle_height\n",
    "\n",
    "            if verbose:\n",
    "                self.fix_block(curr_block, temporary=True)\n",
    "                print(self)\n",
    "            curr_block.move_sideways(self, stream)\n",
    "            if verbose:\n",
    "                self.fix_block(curr_block, temporary=True)\n",
    "                print(self)\n",
    "            if not curr_block.move_down(self):\n",
    "                self.max_height = max(self.max_height, curr_block.y + curr_block.height)\n",
    "                self.fix_block(curr_block)\n",
    "                curr_block = None\n",
    "            elif verbose:\n",
    "                self.fix_block(curr_block, temporary=True)\n",
    "            if verbose:\n",
    "                print(self)\n",
    "        return self.max_height\n",
    "    \n",
    "    def fix_block(self, block: \"Block\", temporary: bool = False) -> None:\n",
    "        # for k, v in self._state_dict.items():\n",
    "        #     if v < 0:\n",
    "        #         self[k] = 0\n",
    "        for x, y in block.rock_positions:\n",
    "            self[block.x + x, block.y + y] = -2 if temporary else 4\n",
    "\n",
    "    def __iter__(self):\n",
    "        return iter(self._state_dict)\n",
    "\n",
    "    def __repr__(self) -> str:\n",
    "        min_y = min(k[1] for k in self)\n",
    "        max_y = max(k[1] for k in self)\n",
    "\n",
    "        ret_str = \"\"\n",
    "        for y in range(max_y, min_y - 1, -1):\n",
    "            ret_str += f\"{y:3d} \"\n",
    "            for x in range(-1, self.cave_width + 1):\n",
    "                ret_str += self._char_rep[self[(x, y)]]\n",
    "            ret_str += \"\\n\"\n",
    "        return ret_str\n",
    "            \n",
    "class Block():\n",
    "    def __init__(self, rock_positions: list[tuple[int, int]]) -> None:\n",
    "        self.rock_positions = rock_positions\n",
    "        self.width = max(pos[0] for pos in rock_positions)\n",
    "        self.height = max(pos[1] for pos in rock_positions)\n",
    "\n",
    "    def move(self, cave: CaveTetris, step: tuple[int, int]) -> bool:\n",
    "        step_x, step_y = step\n",
    "        for rock_x, rock_y in self.rock_positions:\n",
    "            if cave[(self.x + rock_x + step_x, self.y + rock_y + step_y)] > 0:\n",
    "                return False\n",
    "        self.x += step_x\n",
    "        self.y += step_y\n",
    "        return True\n",
    "\n",
    "    def move_down(self, cave: CaveTetris) -> bool:\n",
    "        return self.move(cave, (0, -1))\n",
    "\n",
    "    def move_sideways(self, cave: CaveTetris, step: int) -> bool:\n",
    "        return self.move(cave, (step, 0))\n",
    "    \n",
    "    def reset(self, curr_max_height: int) -> None:\n",
    "        self.x = 2\n",
    "        self.y = curr_max_height + 4\n"
   ]
  },
  {
   "cell_type": "code",
   "execution_count": 3,
   "metadata": {},
   "outputs": [],
   "source": [
    "def parse_input(input_gen):\n",
    "    row = next(input_gen).rstrip()\n",
    "    return CaveTetris([\n",
    "        1 if a == \">\" else -1\n",
    "        for a in row\n",
    "    ])"
   ]
  },
  {
   "cell_type": "code",
   "execution_count": 4,
   "metadata": {},
   "outputs": [],
   "source": [
    "def task_one(filename: str, num_blocks: int = 2022) -> int:\n",
    "    with open(filename) as f:\n",
    "        cave = parse_input(f)\n",
    "    return cave.simultate_falling_rocks(num_blocks)"
   ]
  },
  {
   "cell_type": "code",
   "execution_count": 5,
   "metadata": {},
   "outputs": [
    {
     "name": "stdout",
     "output_type": "stream",
     "text": [
      "FOUND: past_max_height=49, past_block_idx=28, self.max_height=102, block_idx=63\n",
      "cycle_length=35, cycle_height=53\n",
      "remaining_cycles=55: 2915\n",
      "incomplete_cycle=34: 51\n",
      "Alltogether: self.max_height + remaining_height + incomplete_cycle_height=3068\n"
     ]
    },
    {
     "data": {
      "text/plain": [
       "3068"
      ]
     },
     "execution_count": 5,
     "metadata": {},
     "output_type": "execute_result"
    }
   ],
   "source": [
    "task_one(\"test-input.txt\")"
   ]
  },
  {
   "cell_type": "code",
   "execution_count": 6,
   "metadata": {},
   "outputs": [
    {
     "name": "stdout",
     "output_type": "stream",
     "text": [
      "FOUND: past_max_height=363, past_block_idx=235, self.max_height=2935, block_idx=1945\n",
      "cycle_length=1710, cycle_height=2572\n",
      "remaining_cycles=0: 0\n",
      "incomplete_cycle=77: 113\n",
      "Alltogether: self.max_height + remaining_height + incomplete_cycle_height=3048\n"
     ]
    },
    {
     "data": {
      "text/plain": [
       "3048"
      ]
     },
     "execution_count": 6,
     "metadata": {},
     "output_type": "execute_result"
    }
   ],
   "source": [
    "task_one(\"input.txt\")"
   ]
  },
  {
   "cell_type": "code",
   "execution_count": 7,
   "metadata": {},
   "outputs": [
    {
     "name": "stdout",
     "output_type": "stream",
     "text": [
      "FOUND: past_max_height=49, past_block_idx=28, self.max_height=102, block_idx=63\n",
      "cycle_length=35, cycle_height=53\n",
      "remaining_cycles=28571428569: 1514285714157\n",
      "incomplete_cycle=22: 29\n",
      "Alltogether: self.max_height + remaining_height + incomplete_cycle_height=1514285714288\n"
     ]
    },
    {
     "data": {
      "text/plain": [
       "1514285714288"
      ]
     },
     "execution_count": 7,
     "metadata": {},
     "output_type": "execute_result"
    }
   ],
   "source": [
    "task_one(\"test-input.txt\", num_blocks=1000000000000)"
   ]
  },
  {
   "cell_type": "code",
   "execution_count": 8,
   "metadata": {},
   "outputs": [
    {
     "name": "stdout",
     "output_type": "stream",
     "text": [
      "FOUND: past_max_height=363, past_block_idx=235, self.max_height=2935, block_idx=1945\n",
      "cycle_length=1710, cycle_height=2572\n",
      "remaining_cycles=584795320: 1504093563040\n",
      "incomplete_cycle=855: 1274\n",
      "Alltogether: self.max_height + remaining_height + incomplete_cycle_height=1504093567249\n"
     ]
    },
    {
     "data": {
      "text/plain": [
       "1504093567249"
      ]
     },
     "execution_count": 8,
     "metadata": {},
     "output_type": "execute_result"
    }
   ],
   "source": [
    "task_one(\"input.txt\", num_blocks=1000000000000)"
   ]
  }
 ],
 "metadata": {
  "kernelspec": {
   "display_name": "Python 3.10.8 ('aoc22')",
   "language": "python",
   "name": "python3"
  },
  "language_info": {
   "codemirror_mode": {
    "name": "ipython",
    "version": 3
   },
   "file_extension": ".py",
   "mimetype": "text/x-python",
   "name": "python",
   "nbconvert_exporter": "python",
   "pygments_lexer": "ipython3",
   "version": "3.10.8"
  },
  "orig_nbformat": 4,
  "vscode": {
   "interpreter": {
    "hash": "b252b475da23fd68615b28984c1256941e2b26bcd68c1a29ef0ca589a1ac5550"
   }
  }
 },
 "nbformat": 4,
 "nbformat_minor": 2
}
