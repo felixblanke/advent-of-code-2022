{
 "cells": [
  {
   "cell_type": "code",
   "execution_count": 73,
   "metadata": {},
   "outputs": [],
   "source": [
    "from llist import dllist\n",
    "import numpy as np"
   ]
  },
  {
   "cell_type": "code",
   "execution_count": 74,
   "metadata": {},
   "outputs": [],
   "source": [
    "def parse_input(filename: str, factor: int = 1) -> dllist:\n",
    "    with open(filename) as f:\n",
    "        return dllist([\n",
    "            factor * int(row.rstrip()) for row in f\n",
    "        ])"
   ]
  },
  {
   "cell_type": "code",
   "execution_count": 78,
   "metadata": {},
   "outputs": [],
   "source": [
    "def get_shorter_val(val: int, size: int):\n",
    "    if val == 0:\n",
    "        return val\n",
    "    val = val % (np.sign(val) * size)\n",
    "    if abs(val) > abs(val - size):\n",
    "        return val - size\n",
    "    return val\n",
    "\n",
    "def mix_list(filename, factor: int = 1) -> dllist:\n",
    "    lst = parse_input(filename, factor=factor)\n",
    "    curr_node = lst.first\n",
    "    visited_set = set()\n",
    "    while curr_node:\n",
    "        if curr_node in visited_set or curr_node() == 0:\n",
    "            curr_node = curr_node.next\n",
    "            continue\n",
    "\n",
    "        prev_node, next_node = curr_node.prev, curr_node.next\n",
    "        val = lst.remove(curr_node)\n",
    "        \n",
    "        counter = get_shorter_val(val, lst.size)\n",
    "        if counter < 0:\n",
    "            step = 1\n",
    "            node_pointer = prev_node\n",
    "        else:\n",
    "            step = -1\n",
    "            node_pointer = next_node\n",
    "\n",
    "        if node_pointer is None:\n",
    "            node_pointer = lst.first if step < 0 else lst.last\n",
    "\n",
    "        while counter:\n",
    "            node_pointer = node_pointer.next if step < 0 else node_pointer.prev\n",
    "            if node_pointer is None:\n",
    "                node_pointer = lst.first if step < 0 else lst.last\n",
    "            counter += step\n",
    "        \n",
    "        if step < 0:\n",
    "            lst.insertbefore(val, node_pointer)\n",
    "            visited_set.add(node_pointer.prev)\n",
    "        else:\n",
    "            lst.insertafter(val, node_pointer)\n",
    "            visited_set.add(node_pointer.next)\n",
    "\n",
    "        curr_node = next_node\n",
    "\n",
    "    return lst\n",
    "\n",
    "def task_one_eval(lst: dllist, eval_indices: list[int]) -> int:\n",
    "    zero_node = None\n",
    "    for node in lst.iternodes():\n",
    "        if node() == 0:\n",
    "            zero_node = node\n",
    "            break\n",
    "    if not zero_node:\n",
    "        raise ValueError(\"Zero Node not Found!\")\n",
    "\n",
    "    max_idx = max(eval_indices)\n",
    "    output_vals = []\n",
    "\n",
    "    curr_node = zero_node\n",
    "    for idx_offset in range(max_idx + 1):\n",
    "        if idx_offset in eval_indices:\n",
    "            output_vals.append(curr_node())\n",
    "        curr_node = curr_node.next\n",
    "        if curr_node is None:\n",
    "            curr_node = lst.first\n",
    "    return sum(output_vals)"
   ]
  },
  {
   "cell_type": "code",
   "execution_count": 80,
   "metadata": {},
   "outputs": [
    {
     "name": "stdout",
     "output_type": "stream",
     "text": [
      "Sum of the three numbers: 3\n"
     ]
    }
   ],
   "source": [
    "lst = mix_list(\"test-input.txt\")\n",
    "print(f\"Sum of the three numbers: {task_one_eval(lst, [1000, 2000, 3000])}\")"
   ]
  },
  {
   "cell_type": "code",
   "execution_count": 81,
   "metadata": {},
   "outputs": [
    {
     "name": "stdout",
     "output_type": "stream",
     "text": [
      "Sum of the three numbers: 3466\n"
     ]
    }
   ],
   "source": [
    "lst = mix_list(\"input.txt\")\n",
    "print(f\"Sum of the three numbers: {task_one_eval(lst, [1000, 2000, 3000])}\")"
   ]
  },
  {
   "cell_type": "code",
   "execution_count": 82,
   "metadata": {},
   "outputs": [
    {
     "name": "stdout",
     "output_type": "stream",
     "text": [
      "dllist([0, -2434767459, 3246356612, -1623178306, 2434767459, 1623178306, 811589153])\n",
      "Sum of the three numbers: 4869534918\n"
     ]
    }
   ],
   "source": [
    "lst = mix_list(\"test-input.txt\", factor=811589153)\n",
    "print(lst)\n",
    "print(f\"Sum of the three numbers: {task_one_eval(lst, [1000, 2000, 3000])}\")"
   ]
  }
 ],
 "metadata": {
  "kernelspec": {
   "display_name": "Python 3.10.8 ('aoc22')",
   "language": "python",
   "name": "python3"
  },
  "language_info": {
   "codemirror_mode": {
    "name": "ipython",
    "version": 3
   },
   "file_extension": ".py",
   "mimetype": "text/x-python",
   "name": "python",
   "nbconvert_exporter": "python",
   "pygments_lexer": "ipython3",
   "version": "3.10.8"
  },
  "orig_nbformat": 4,
  "vscode": {
   "interpreter": {
    "hash": "b252b475da23fd68615b28984c1256941e2b26bcd68c1a29ef0ca589a1ac5550"
   }
  }
 },
 "nbformat": 4,
 "nbformat_minor": 2
}
